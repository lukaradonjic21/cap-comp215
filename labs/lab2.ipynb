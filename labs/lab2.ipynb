{
  "nbformat": 4,
  "nbformat_minor": 0,
  "metadata": {
    "colab": {
      "name": "iMdb.ipynb",
      "provenance": [],
      "collapsed_sections": []
    },
    "kernelspec": {
      "name": "python3",
      "language": "python",
      "display_name": "Python 3 (ipykernel)"
    },
    "language_info": {
      "name": "python"
    }
  },
  "cells": [
    {
      "cell_type": "markdown",
      "source": [
        "COMP 215 - LAB 2\n",
        "----------------\n",
        "#### Name:\n",
        "#### Date:\n",
        "This lab exercise is mostly a review of strings, tuples, lists, dictionaries, and functions.\n",
        "We will also see how \"list comprehension\" provides a compact form for \"list accumulator\" algorithms.\n",
        "\n",
        "As usual, the first code cell simply imports all the modules we'll be using..."
      ],
      "metadata": {
        "id": "nbRPZPKZU5Pk"
      }
    },
    {
      "cell_type": "code",
      "execution_count": 184,
      "outputs": [],
      "source": [
        "import json, requests\n",
        "import matplotlib.pyplot as plt\n",
        "from pprint import pprint"
      ],
      "metadata": {
        "pycharm": {
          "name": "#%%\n"
        },
        "id": "FnL3PyoUCnkb"
      }
    },
    {
      "cell_type": "markdown",
      "source": [
        "We'll answer some questions about movies and TV shows with the IMDb database:  https://www.imdb.com/\n",
        "> using the IMDb API:  https://imdb-api.com/api\n",
        "\n",
        "You can register for your own API key, or simply use the one provided below.\n",
        "\n",
        "Here's an example query:\n",
        " *   search for TV Series with title == \"Lexx\""
      ],
      "metadata": {
        "collapsed": false,
        "pycharm": {
          "name": "#%% md\n"
        },
        "id": "vs5zYlZkCnkc"
      }
    },
    {
      "cell_type": "code",
      "execution_count": 185,
      "metadata": {
        "id": "JDGbYTySU3BP",
        "colab": {
          "base_uri": "https://localhost:8080/"
        },
        "outputId": "3c0f4201-85d4-4085-b689-4cdd73c67e32"
      },
      "outputs": [
        {
          "output_type": "stream",
          "name": "stdout",
          "text": [
            "[{'description': '(1996) (TV Series)',\n",
            "  'id': 'tt0115243',\n",
            "  'image': 'https://imdb-api.com/images/original/MV5BOGFjMzQyMTYtMjQxNy00NjAyLWI2OWMtZGVhMjk4OGM3ZjE5XkEyXkFqcGdeQXVyNzMzMjU5NDY@._V1_Ratio0.7273_AL_.jpg',\n",
            "  'resultType': 'Title',\n",
            "  'title': 'Lexx'},\n",
            " {'description': '(2008) (Video)',\n",
            "  'id': 'tt1833738',\n",
            "  'image': 'https://imdb-api.com/images/original/MV5BMjAyMTYzNjk4NV5BMl5BanBnXkFtZTcwNzE4MTU0NA@@._V1_Ratio0.7273_AL_.jpg',\n",
            "  'resultType': 'Title',\n",
            "  'title': 'Lexx'},\n",
            " {'description': '(2018)',\n",
            "  'id': 'tt10800568',\n",
            "  'image': 'https://imdb-api.com/images/original/MV5BZWY5ODYwNzYtMmIyMS00YzhhLTg0OTAtODM1M2I5YzkxMzY1XkEyXkFqcGdeQXVyMTEwNDU1MzEy._V1_Ratio0.7273_AL_.jpg',\n",
            "  'resultType': 'Title',\n",
            "  'title': 'Lexxy Roxx: Lexy 360 - Der Film'},\n",
            " {'description': '(2014) (Short)',\n",
            "  'id': 'tt4396272',\n",
            "  'image': 'https://imdb-api.com/images/original/nopicture.jpg',\n",
            "  'resultType': 'Title',\n",
            "  'title': 'Lexxxus'},\n",
            " {'description': '(2018) (Short)',\n",
            "  'id': 'tt12646262',\n",
            "  'image': 'https://imdb-api.com/images/original/MV5BODczYTEwNTctYzAzYy00YjIzLThkNGQtMDdjYmU5NjI1MzAxXkEyXkFqcGdeQXVyMTIwNjM2NTQz._V1_Ratio2.3182_AL_.jpg',\n",
            "  'resultType': 'Title',\n",
            "  'title': 'Lexxe - Red Velvet'},\n",
            " {'description': '(2016) (Video) aka \"Lexxzibé Inonime Nirek & Elmaniak: La '\n",
            "                 'Belle Et La Bête (2016)\"',\n",
            "  'id': 'tt14690226',\n",
            "  'image': 'https://imdb-api.com/images/original/MV5BN2NmNGYxZTgtYjg3MC00ZDZhLTk1ODUtM2E4NGYwYzQ3YTFiXkEyXkFqcGdeQXVyMTA2NzA1NDYz._V1_Ratio1.7727_AL_.jpg',\n",
            "  'resultType': 'Title',\n",
            "  'title': 'Mauvais augure feat. Nirek & Ced (Elmaniak) Auger: La Belle Et La '\n",
            "           'Bête'},\n",
            " {'description': '(2020) (TV Series)',\n",
            "  'id': 'tt6964748',\n",
            "  'image': 'https://imdb-api.com/images/original/MV5BOTg4ZmQ5ZjItZTllZC00NzUzLTkwMTEtMjIzYzliZjk2ODUwXkEyXkFqcGdeQXVyMTEyMjM2NDc2._V1_Ratio0.7273_AL_.jpg',\n",
            "  'resultType': 'Title',\n",
            "  'title': 'Alex Rider'},\n",
            " {'description': '(2015)',\n",
            "  'id': 'tt2268016',\n",
            "  'image': 'https://imdb-api.com/images/original/MV5BNDMyODU3ODk3Ml5BMl5BanBnXkFtZTgwNDc1ODkwNjE@._V1_Ratio0.7273_AL_.jpg',\n",
            "  'resultType': 'Title',\n",
            "  'title': 'Magic Mike XXL'},\n",
            " {'description': '(2004)',\n",
            "  'id': 'tt0346491',\n",
            "  'image': 'https://imdb-api.com/images/original/MV5BMTA1NDQ3OTY2NDVeQTJeQWpwZ15BbWU3MDI5MDc0MzM@._V1_Ratio0.7273_AL_.jpg',\n",
            "  'resultType': 'Title',\n",
            "  'title': 'Alexander'}]\n"
          ]
        }
      ],
      "source": [
        "API_KEY = 'k_ynffhhna'\n",
        "\n",
        "title = 'lexx'\n",
        "url = \"https://imdb-api.com/en/API/SearchTitle/{key}/{title}\".format(key=API_KEY, title=title)\n",
        "\n",
        "response = requests.request(\"GET\", url, headers={}, data={})\n",
        "\n",
        "data = json.loads(response.text)  # recall json.loads for lab 1\n",
        "\n",
        "results = data['results']\n",
        "pprint(results)"
      ]
    },
    {
      "cell_type": "markdown",
      "source": [
        "Next we extract the item we want from the data set by applying a \"filter\":"
      ],
      "metadata": {
        "collapsed": false,
        "pycharm": {
          "name": "#%% md\n"
        },
        "id": "4nXWaQe3Cnkd"
      }
    },
    {
      "cell_type": "code",
      "execution_count": 186,
      "outputs": [
        {
          "output_type": "stream",
          "name": "stdout",
          "text": [
            "{'description': '(1996) (TV Series)',\n",
            " 'id': 'tt0115243',\n",
            " 'image': 'https://imdb-api.com/images/original/MV5BOGFjMzQyMTYtMjQxNy00NjAyLWI2OWMtZGVhMjk4OGM3ZjE5XkEyXkFqcGdeQXVyNzMzMjU5NDY@._V1_Ratio0.7273_AL_.jpg',\n",
            " 'resultType': 'Title',\n",
            " 'title': 'Lexx'}\n"
          ]
        }
      ],
      "source": [
        "items = [item for item in results if item['title']=='Lexx' and \"TV\" in item['description']]\n",
        "assert len(items) == 1\n",
        "lexx = items[0]\n",
        "pprint(lexx)"
      ],
      "metadata": {
        "pycharm": {
          "name": "#%%\n"
        },
        "colab": {
          "base_uri": "https://localhost:8080/"
        },
        "id": "aTiv5cLCCnkd",
        "outputId": "fb22a536-bfe7-4533-883e-96321608f30d"
      }
    },
    {
      "cell_type": "markdown",
      "source": [
        "## Exercise 1\n",
        "\n",
        "In the code cell below, re-write the \"list comprehension\" above as a loop so you understand how it works.\n",
        "Notice how the \"conditional list comprehension\" is a compact way to \"filter\" items of interest from a large data set.\n"
      ],
      "metadata": {
        "collapsed": false,
        "pycharm": {
          "name": "#%% md\n"
        },
        "id": "zz_Ud0czCnkd"
      }
    },
    {
      "cell_type": "code",
      "execution_count": 187,
      "outputs": [
        {
          "output_type": "stream",
          "name": "stdout",
          "text": [
            "[{'description': '(1996) (TV Series)',\n",
            "  'id': 'tt0115243',\n",
            "  'image': 'https://imdb-api.com/images/original/MV5BOGFjMzQyMTYtMjQxNy00NjAyLWI2OWMtZGVhMjk4OGM3ZjE5XkEyXkFqcGdeQXVyNzMzMjU5NDY@._V1_Ratio0.7273_AL_.jpg',\n",
            "  'resultType': 'Title',\n",
            "  'title': 'Lexx'}]\n"
          ]
        }
      ],
      "source": [
        "movies = []\n",
        "for media in results:\n",
        "  if 'TV' in media['description'] and media['title'] == 'Lexx':\n",
        "    movies.append(media)\n",
        "pprint(movies)"
      ],
      "metadata": {
        "pycharm": {
          "name": "#%%\n"
        },
        "colab": {
          "base_uri": "https://localhost:8080/"
        },
        "id": "Od8P_6wuCnkd",
        "outputId": "5f4e100f-8541-4a38-cd2f-6c808e71767a"
      }
    },
    {
      "cell_type": "markdown",
      "source": [
        "Notice that the `lexx` dictionary contains an `id` field that uniquely identifies this record in the database.\n",
        "\n",
        "We can use the `id` to fetch other information about the TV series, for example,\n",
        "*   get names of all actors in the TV Series Lexx\n"
      ],
      "metadata": {
        "id": "DNRs7ynOYwYk"
      }
    },
    {
      "cell_type": "code",
      "source": [
        "url = \"https://imdb-api.com/en/API/FullCast/{key}/{id}\".format(key=API_KEY, id=lexx['id'])\n",
        "response = requests.request(\"GET\", url, headers={}, data={})\n",
        "data = json.loads(response.text)\n",
        "\n",
        "actors = data['actors']\n",
        "pprint(actors[:10])   # recall the slice operator (it's a long list!)"
      ],
      "metadata": {
        "colab": {
          "base_uri": "https://localhost:8080/"
        },
        "id": "tiyXTDfnZAd0",
        "outputId": "8b81342e-95bf-4fad-fd1a-000f58d47cc8"
      },
      "execution_count": 188,
      "outputs": [
        {
          "output_type": "stream",
          "name": "stdout",
          "text": [
            "[{'asCharacter': 'Stanley H. Tweedle / ... 61 episodes, 1996-2002',\n",
            "  'id': 'nm0235978',\n",
            "  'image': 'https://imdb-api.com/images/original/MV5BMTYxODI3OTM5Ml5BMl5BanBnXkFtZTgwMjM4ODc3MjE@._V1_Ratio1.3182_AL_.jpg',\n",
            "  'name': 'Brian Downey'},\n",
            " {'asCharacter': 'Kai / ... 61 episodes, 1996-2002',\n",
            "  'id': 'nm0573158',\n",
            "  'image': 'https://imdb-api.com/images/original/MV5BMTY3MjQ4NzE0NV5BMl5BanBnXkFtZTgwNDE4ODc3MjE@._V1_Ratio1.3182_AL_.jpg',\n",
            "  'name': 'Michael McManus'},\n",
            " {'asCharacter': '790 / ... 57 episodes, 1996-2002',\n",
            "  'id': 'nm0386601',\n",
            "  'image': 'https://imdb-api.com/images/original/MV5BMjMyMDM1NzgzNF5BMl5BanBnXkFtZTgwOTM4ODc3MjE@._V1_Ratio1.3182_AL_.jpg',\n",
            "  'name': 'Jeffrey Hirschfield'},\n",
            " {'asCharacter': 'Xev Bellringer / ... 55 episodes, 1998-2002',\n",
            "  'id': 'nm0781462',\n",
            "  'image': 'https://imdb-api.com/images/original/MV5BMTk2MDQ4NzExOF5BMl5BanBnXkFtZTcwOTMyNzcyMQ@@._V1_Ratio0.7273_AL_.jpg',\n",
            "  'name': 'Xenia Seeberg'},\n",
            " {'asCharacter': 'The Lexx 46 episodes, 1996-2002',\n",
            "  'id': 'nm0302577',\n",
            "  'image': 'https://imdb-api.com/images/original/nopicture.jpg',\n",
            "  'name': 'Tom Gallant'},\n",
            " {'asCharacter': 'Prince / ... 23 episodes, 2000-2002',\n",
            "  'id': 'nm0000911',\n",
            "  'image': 'https://imdb-api.com/images/original/MV5BMTgxMTY2NzM5NF5BMl5BanBnXkFtZTcwMDA5MDYxOA@@._V1_Ratio0.7727_AL_.jpg',\n",
            "  'name': 'Nigel Bennett'},\n",
            " {'asCharacter': 'Bunny Priest / ... 16 episodes, 1999-2002',\n",
            "  'id': 'nm0954934',\n",
            "  'image': 'https://imdb-api.com/images/original/MV5BMTg2Mjk2Nzk5NV5BMl5BanBnXkFtZTcwNzYyODQzMQ@@._V1_Ratio0.7727_AL_.jpg',\n",
            "  'name': 'Patricia Zentilli'},\n",
            " {'asCharacter': 'Bound Man / ... 8 episodes, 1996-2002',\n",
            "  'id': 'nm0317596',\n",
            "  'image': 'https://imdb-api.com/images/original/MV5BNjNiNzAwMjQtYTU1NC00NDkzLWI4OTktYjA0NWRiZjEzZmFkXkEyXkFqcGdeQXVyMTAwMzUyMzUy._V1_Ratio0.7273_AL_.jpg',\n",
            "  'name': 'Lex Gigeroff'},\n",
            " {'asCharacter': 'Reginald J. Priest / ... 13 episodes, 2000-2002',\n",
            "  'id': 'nm0437708',\n",
            "  'image': 'https://imdb-api.com/images/original/MV5BMWFmNDI5YWEtMjRkYi00MTRhLTk5YjMtYTEwNTgyMWQ2ODk4XkEyXkFqcGdeQXVyNDM4NDA1Mg@@._V1_Ratio0.7273_AL_.jpg',\n",
            "  'name': 'Rolf Kanies'},\n",
            " {'asCharacter': 'Lyekka / ... 10 episodes, 1998-2002',\n",
            "  'id': 'nm0936263',\n",
            "  'image': 'https://imdb-api.com/images/original/nopicture.jpg',\n",
            "  'name': 'Louise Wischermann'}]\n"
          ]
        }
      ]
    },
    {
      "cell_type": "markdown",
      "source": [
        "Notice that the `asCharacter` field contains a number of different pieces of data as a single string, including the character name.\n",
        "This kind of \"free-form\" text data is notoriously challenging to parse...\n",
        "\n",
        "## Exercise 2\n",
        "\n",
        "In the code cell below, write a python function that takes a string input (the text from `asCharacter` field)\n",
        "and returns the number of episodes, if available, or None.\n",
        "\n",
        "Hints:\n",
        "* notice this is a numeric value followed by the word \"episodes\"\n",
        "* recall str.split() and str.isdigit() and other string build-ins.\n",
        "\n",
        "Add unit tests to cover as many cases from the `actors` data set above as you can.\n"
      ],
      "metadata": {
        "id": "iOZspDBVbBns"
      }
    },
    {
      "cell_type": "code",
      "execution_count": 229,
      "outputs": [
        {
          "output_type": "stream",
          "name": "stdout",
          "text": [
            "This actor is in 61 episodes,\n",
            "This actor is in 61 episodes,\n",
            "This actor is in 57 episodes,\n",
            "This actor is in 55 episodes,\n",
            "This actor is in 46 episodes,\n",
            "This actor is in 23 episodes,\n",
            "This actor is in 16 episodes,\n",
            "This actor is in 8 episodes,\n",
            "This actor is in 13 episodes,\n",
            "This actor is in 10 episodes,\n",
            "This actor is in 7 episodes,\n",
            "This actor is in 8 episodes,\n",
            "This actor is in 3 episodes,\n",
            "This actor is in 5 episodes,\n",
            "This actor is in 6 episodes,\n",
            "This actor is in 7 episodes,\n",
            "This actor is in 7 episodes,\n",
            "This actor is in 5 episodes,\n",
            "This actor is in 5 episodes,\n",
            "This actor is in 6 episodes,\n",
            "This actor is in 5 episodes,\n",
            "This actor is in 4 episodes,\n",
            "This actor is in 5 episodes,\n",
            "This actor is in 5 episodes,\n",
            "This actor is in 5 episodes,\n",
            "This actor is in 5 episodes,\n",
            "This actor is in 5 episodes,\n",
            "This actor is in 1 episode,\n",
            "This actor is in 4 episodes,\n",
            "This actor is in 4 episodes,\n",
            "This actor is in 4 episodes,\n",
            "This actor is in 5 episodes,\n",
            "This actor is in 5 episodes,\n",
            "This actor is in 4 episodes,\n",
            "This actor is in 4 episodes,\n",
            "This actor is in 4 episodes,\n",
            "This actor is in 4 episodes,\n",
            "This actor is in 4 episodes,\n",
            "This actor is in 3 episodes,\n",
            "This actor is in 3 episodes,\n",
            "This actor is in 1 episode,\n",
            "This actor is in 4 episodes,\n",
            "This actor is in 4 episodes,\n",
            "This actor is in 4 episodes,\n",
            "This actor is in 4 episodes,\n",
            "This actor is in 4 episodes,\n",
            "This actor is in 4 episodes,\n",
            "This actor is in 4 episodes,\n",
            "This actor is in 4 episodes,\n",
            "This actor is in 4 episodes,\n",
            "This actor is in 3 episodes,\n",
            "This actor is in 3 episodes,\n",
            "This actor is in 3 episodes,\n",
            "This actor is in 2 episodes,\n",
            "This actor is in 2 episodes,\n",
            "This actor is in 2 episodes,\n",
            "This actor is in 2 episodes,\n",
            "This actor is in 2 episodes,\n",
            "This actor is in 2 episodes,\n",
            "This actor is in 2 episodes,\n",
            "This actor is in 2 episodes,\n",
            "This actor is in 2 episodes,\n",
            "This actor is in 2 episodes,\n",
            "This actor is in 2 episodes,\n",
            "This actor is in 2 episodes,\n",
            "This actor is in 2 episodes,\n",
            "This actor is in 2 episodes,\n",
            "This actor is in 2 episodes,\n",
            "This actor is in 2 episodes,\n",
            "This actor is in 2 episodes,\n",
            "This actor is in 2 episodes,\n",
            "This actor is in 2 episodes,\n",
            "This actor is in 2 episodes,\n",
            "This actor is in 2 episodes,\n",
            "This actor is in 2 episodes,\n",
            "This actor is in 2 episodes,\n",
            "This actor is in 2 episodes,\n",
            "This actor is in 2 episodes,\n",
            "This actor is in 2 episodes,\n",
            "This actor is in 2 episodes,\n",
            "This actor is in 2 episodes,\n",
            "This actor is in 2 episodes,\n",
            "This actor is in 2 episodes,\n",
            "This actor is in 2 episodes,\n",
            "This actor is in 1 episode,\n",
            "This actor is in 2 episodes,\n",
            "This actor is in 1 episode,\n",
            "This actor is in 1 episode,\n",
            "This actor is in 1 episode,\n",
            "This actor is in 1 episode,\n",
            "This actor is in 1 episode,\n",
            "This actor is in 1 episode,\n",
            "This actor is in 1 episode,\n",
            "This actor is in 1 episode,\n",
            "This actor is in 1 episode,\n",
            "This actor is in 1 episode,\n",
            "This actor is in 1 episode,\n",
            "This actor is in 1 episode,\n",
            "This actor is in 1 episode,\n",
            "This actor is in 1 episode,\n",
            "This actor is in 1 episode,\n",
            "This actor is in 1 episode,\n",
            "This actor is in 1 episode,\n",
            "This actor is in 1 episode,\n",
            "This actor is in 1 episode,\n",
            "This actor is in 1 episode,\n",
            "This actor is in 1 episode,\n",
            "This actor is in 1 episode,\n",
            "This actor is in 1 episode,\n",
            "This actor is in 1 episode,\n",
            "This actor is in 1 episode,\n",
            "This actor is in 1 episode,\n",
            "This actor is in 1 episode,\n",
            "This actor is in 1 episode,\n",
            "This actor is in 1 episode,\n",
            "This actor is in 1 episode,\n",
            "This actor is in 1 episode,\n",
            "This actor is in 1 episode,\n",
            "This actor is in 1 episode,\n",
            "This actor is in 1 episode,\n",
            "This actor is in 1 episode,\n",
            "This actor is in 1 episode,\n",
            "This actor is in 1 episode,\n",
            "This actor is in 1 episode,\n",
            "This actor is in 1 episode,\n",
            "This actor is in 1 episode,\n",
            "This actor is in 1 episode,\n",
            "This actor is in 1 episode,\n",
            "This actor is in 1 episode,\n",
            "This actor is in 1 episode,\n",
            "This actor is in 1 episode,\n",
            "This actor is in 1 episode,\n",
            "This actor is in 1 episode,\n",
            "This actor is in 1 episode,\n",
            "This actor is in 1 episode,\n",
            "This actor is in 1 episode,\n",
            "This actor is in 1 episode,\n",
            "This actor is in 1 episode,\n",
            "This actor is in 1 episode,\n",
            "This actor is in 1 episode,\n",
            "This actor is in 1 episode,\n",
            "This actor is in 1 episode,\n",
            "This actor is in 1 episode,\n",
            "This actor is in 1 episode,\n",
            "This actor is in 1 episode,\n",
            "This actor is in 1 episode,\n",
            "This actor is in 1 episode,\n",
            "This actor is in 1 episode,\n",
            "This actor is in 1 episode,\n",
            "This actor is in 1 episode,\n",
            "This actor is in 1 episode,\n",
            "This actor is in 1 episode,\n",
            "This actor is in 1 episode,\n",
            "This actor is in 1 episode,\n",
            "This actor is in 1 episode,\n",
            "This actor is in 1 episode,\n",
            "This actor is in 1 episode,\n",
            "This actor is in 1 episode,\n",
            "This actor is in 1 episode,\n",
            "This actor is in 1 episode,\n",
            "This actor is in 1 episode,\n",
            "This actor is in 1 episode,\n",
            "This actor is in 1 episode,\n",
            "This actor is in 1 episode,\n",
            "This actor is in 1 episode,\n",
            "This actor is in 1 episode,\n",
            "This actor is in 1 episode,\n",
            "This actor is in 1 episode,\n",
            "This actor is in 1 episode,\n",
            "This actor is in 1 episode,\n",
            "This actor is in 1 episode,\n",
            "This actor is in 1 episode,\n",
            "This actor is in 1 episode,\n",
            "This actor is in 1 episode,\n",
            "This actor is in 1 episode,\n",
            "This actor is in 1 episode,\n",
            "This actor is in 1 episode,\n",
            "This actor is in 1 episode,\n",
            "This actor is in 1 episode,\n",
            "This actor is in 1 episode,\n",
            "This actor is in 1 episode,\n",
            "This actor is in 1 episode,\n",
            "This actor is in 1 episode,\n",
            "This actor is in 1 episode,\n",
            "This actor is in 1 episode,\n",
            "This actor is in 1 episode,\n",
            "This actor is in 1 episode,\n",
            "This actor is in 1 episode,\n",
            "This actor is in 1 episode,\n",
            "This actor is in 1 episode,\n",
            "This actor is in 1 episode,\n",
            "This actor is in 1 episode,\n",
            "This actor is in 1 episode,\n",
            "This actor is in 1 episode,\n",
            "This actor is in 1 episode,\n",
            "This actor is in 1 episode,\n",
            "This actor is in 1 episode,\n",
            "This actor is in 1 episode,\n",
            "This actor is in 1 episode,\n",
            "This actor is in 1 episode,\n",
            "This actor is in 1 episode,\n",
            "This actor is in 1 episode,\n",
            "This actor is in 1 episode,\n",
            "This actor is in 1 episode,\n",
            "This actor is in 1 episode,\n",
            "This actor is in 1 episode,\n",
            "This actor is in 1 episode,\n",
            "This actor is in 1 episode,\n",
            "This actor is in 1 episode,\n",
            "This actor is in 1 episode,\n",
            "This actor is in 1 episode,\n",
            "This actor is in 1 episode,\n",
            "This actor is in 1 episode,\n",
            "This actor is in 1 episode,\n",
            "This actor is in 1 episode,\n",
            "This actor is in 1 episode,\n",
            "This actor is in 1 episode,\n",
            "This actor is in 1 episode,\n",
            "This actor is in 1 episode,\n",
            "This actor is in 1 episode,\n",
            "This actor is in 1 episode,\n",
            "This actor is in 1 episode,\n",
            "This actor is in 1 episode,\n",
            "This actor is in 1 episode,\n",
            "This actor is in 1 episode,\n",
            "This actor is in 1 episode,\n",
            "This actor is in 1 episode,\n",
            "This actor is in 1 episode,\n",
            "This actor is in 1 episode,\n",
            "This actor is in 1 episode,\n",
            "This actor is in 1 episode,\n",
            "This actor is in 1 episode,\n",
            "This actor is in 1 episode,\n",
            "This actor is in 1 episode,\n",
            "This actor is in 1 episode,\n",
            "This actor is in 1 episode,\n",
            "This actor is in 1 episode,\n",
            "This actor is in 1 episode,\n",
            "This actor is in 1 episode,\n",
            "This actor is in 1 episode,\n",
            "This actor is in 1 episode,\n",
            "This actor is in 1 episode,\n",
            "This actor is in 1 episode,\n",
            "This actor is in 1 episode,\n",
            "This actor is in 1 episode,\n",
            "This actor is in 1 episode,\n",
            "This actor is in 1 episode,\n",
            "This actor is in 1 episode,\n",
            "This actor is in 1 episode,\n",
            "This actor is in 1 episode,\n",
            "This actor is in 1 episode,\n",
            "This actor is in 1 episode,\n",
            "This actor is in 1 episode,\n",
            "This actor is in 1 episode,\n",
            "This actor is in 1 episode,\n",
            "This actor is in 1 episode,\n",
            "This actor is in 1 episode,\n",
            "This actor is in 1 episode,\n",
            "This actor is in 1 episode,\n",
            "This actor is in 1 episode,\n",
            "This actor is in 1 episode,\n",
            "This actor is in 1 episode,\n",
            "This actor is in 1 episode,\n",
            "This actor is in 1 episode,\n",
            "This actor is in 1 episode,\n",
            "This actor is in 1 episode,\n",
            "This actor is in 1 episode,\n",
            "This actor is in 1 episode,\n",
            "This actor is in 1 episode,\n",
            "This actor is in 1 episode,\n",
            "This actor is in 1 episode,\n",
            "This actor is in 1 episode,\n",
            "This actor is in 1 episode,\n",
            "This actor is in 1 episode,\n",
            "This actor is in 1 episode,\n",
            "This actor is in 1 episode,\n",
            "This actor is in 1 episode,\n",
            "This actor is in 1 episode,\n",
            "This actor is in 1 episode,\n",
            "This actor is in 1 episode,\n",
            "This actor is in 1 episode,\n",
            "This actor is in 1 episode,\n",
            "This actor is in 1 episode,\n",
            "This actor is in 1 episode,\n",
            "This actor is in 1 episode,\n",
            "This actor is in 1 episode,\n",
            "This actor is in 1 episode,\n",
            "This actor is in 1 episode,\n",
            "This actor is in 1 episode,\n",
            "This actor is in 1 episode,\n",
            "This actor is in 1 episode,\n",
            "This actor is in 1 episode,\n",
            "This actor is in 1 episode,\n",
            "This actor is in 1 episode,\n",
            "This actor is in 1 episode,\n",
            "This actor is in 1 episode,\n",
            "This actor is in 1 episode,\n",
            "This actor is in 1 episode,\n",
            "This actor is in 1 episode,\n",
            "This actor is in 1 episode,\n",
            "This actor is in 1 episode,\n",
            "This actor is in 1 episode,\n",
            "This actor is in 1 episode,\n",
            "This actor is in 1 episode,\n",
            "This actor is in 1 episode,\n",
            "This actor is in 1 episode,\n",
            "This actor is in 1 episode,\n",
            "This actor is in 1 episode,\n",
            "This actor is in 1 episode,\n",
            "This actor is in 1 episode,\n",
            "This actor is in 1 episode,\n",
            "This actor is in 1 episode,\n",
            "This actor is in 1 episode,\n",
            "This actor is in 1 episode,\n",
            "This actor is in 1 episode,\n",
            "This actor is in 1 episode,\n",
            "This actor is in 1 episode,\n",
            "This actor is in 1 episode,\n",
            "This actor is in 1 episode,\n",
            "This actor is in 1 episode,\n",
            "This actor is in 1 episode,\n",
            "This actor is in 1 episode,\n",
            "This actor is in 1 episode,\n",
            "This actor is in 1 episode,\n",
            "This actor is in 1 episode,\n",
            "This actor is in 1 episode,\n",
            "This actor is in 1 episode,\n",
            "This actor is in 1 episode,\n",
            "This actor is in 1 episode,\n",
            "This actor is in 1 episode,\n",
            "This actor is in 1 episode,\n",
            "This actor is in 1 episode,\n",
            "This actor is in 1 episode,\n",
            "This actor is in 1 episode,\n",
            "This actor is in 1 episode,\n",
            "This actor is in 1 episode,\n",
            "This actor is in 1 episode,\n",
            "This actor is in 1 episode,\n",
            "This actor is in 1 episode,\n",
            "This actor is in 1 episode,\n",
            "This actor is in 1 episode,\n",
            "This actor is in 1 episode,\n",
            "This actor is in 1 episode,\n",
            "This actor is in 1 episode,\n",
            "This actor is in 1 episode,\n",
            "This actor is in 1 episode,\n",
            "This actor is in 1 episode,\n",
            "This actor is in 1 episode,\n",
            "This actor is in 1 episode,\n",
            "This actor is in 1 episode,\n",
            "This actor is in 1 episode,\n",
            "This actor is in 1 episode,\n",
            "This actor is in 1 episode,\n",
            "This actor is in 1 episode,\n",
            "This actor is in 1 episode,\n",
            "This actor is in 1 episode,\n",
            "This actor is in 1 episode,\n",
            "This actor is in 1 episode,\n",
            "This actor is in 2 episodes,\n",
            "This actor is in 2 episodes,\n",
            "This actor is in 1 episode,\n",
            "This actor is in 1 episode,\n",
            "This actor is in 1 episode,\n",
            "This actor is in 1 episode,\n",
            "This actor is in 1 episode,\n"
          ]
        },
        {
          "output_type": "execute_result",
          "data": {
            "application/vnd.google.colaboratory.intrinsic+json": {
              "type": "string"
            },
            "text/plain": [
              "\"\\n#original code\\nfor person in actors:\\n  infoSplit = person['asCharacter'].split()\\n  eps = infoSplit[-3:-1]\\n  if eps[0].isdigit():\\n    print('This actor is in', eps[0], eps[1])\\n  else:\\n    print('none')\\n\""
            ]
          },
          "metadata": {},
          "execution_count": 229
        }
      ],
      "source": [
        "def episodes(asCharString):\n",
        "  'input is asCharacter string, outputs episodes or returns none'\n",
        "  infoSplit = asCharString.split()\n",
        "  eps = infoSplit[-3:-1]\n",
        "  if eps[0].isdigit():\n",
        "    print('This actor is in', eps[0], eps[1])\n",
        "  else:\n",
        "    return None\n",
        "\n",
        "def charEps(person):\n",
        "  'input is imdb api media dictionary, outputs episodes or returns none'\n",
        "  infoSplit = person['asCharacter'].split()\n",
        "  eps = infoSplit[-3:-1]\n",
        "  if eps[0].isdigit():\n",
        "    print('This actor is in', eps[0], eps[1])\n",
        "  else:\n",
        "    return None\n",
        "\n",
        "for person in actors:\n",
        "  'loops charEps for every actor in Lexx'\n",
        "  charEps(person)\n",
        "\n",
        "\"\"\"\n",
        "#original code\n",
        "for person in actors:\n",
        "  infoSplit = person['asCharacter'].split()\n",
        "  eps = infoSplit[-3:-1]\n",
        "  if eps[0].isdigit():\n",
        "    print('This actor is in', eps[0], eps[1])\n",
        "  else:\n",
        "    print('none')\n",
        "\"\"\""
      ],
      "metadata": {
        "pycharm": {
          "name": "#%%\n"
        },
        "colab": {
          "base_uri": "https://localhost:8080/",
          "height": 1000
        },
        "id": "3y6Zh1iSCnke",
        "outputId": "571e33d7-3f7f-4e4c-919b-73eac0876009"
      }
    },
    {
      "cell_type": "markdown",
      "source": [
        "## Exercise 3\n",
        "\n",
        "In the code cell below, write a python function that takes a string input (the text from `asCharacter` field)\n",
        "and returns just the character name.  This one may be even a little harder!\n",
        "\n",
        "Hints:\n",
        "* notice the character name is usually followed by a forward slash, `/`\n",
        "* don't worry if your algorithm does not perfectly parse every character's name --\n",
        "it may not really be possible to correclty handle all cases because the field format does not follow consistent rules\n",
        "\n",
        "Add unit tests to cover as many cases from the `actors` data set above as you can.\n"
      ],
      "metadata": {
        "collapsed": false,
        "pycharm": {
          "name": "#%% md\n"
        },
        "id": "Iv2zWmZkCnkf"
      }
    },
    {
      "cell_type": "code",
      "execution_count": 194,
      "outputs": [],
      "source": [
        "# Your code here"
      ],
      "metadata": {
        "pycharm": {
          "name": "#%%\n"
        },
        "id": "aZCeB2L5Cnkf"
      }
    },
    {
      "cell_type": "markdown",
      "source": [
        "\n",
        "## Exercise 4\n",
        "\n",
        "Using the functions you developed above, define 2 list comprehensions that:\n",
        "* create list of 2 tuples with (actor name, character description) for actors in Lexx  (from `asCharacter` field)\n",
        "* create a list of dictionaries, with keys:  'actor' and 'character' for the same data\n",
        "\n",
        "Hint: this is a very simple problem - the goal is to learn how to build these lists using a comprehension.\n",
        "\n",
        "Pretty print (pprint) your lists to visually verify the results."
      ],
      "metadata": {
        "id": "f_iRYAa3lqV0"
      }
    },
    {
      "cell_type": "code",
      "source": [
        "# your code here"
      ],
      "metadata": {
        "id": "Ds1YevErlzCe",
        "pycharm": {
          "name": "#%%\n"
        }
      },
      "execution_count": 191,
      "outputs": []
    }
  ]
}