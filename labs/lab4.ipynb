{
  "cells": [
    {
      "cell_type": "markdown",
      "metadata": {
        "id": "view-in-github",
        "colab_type": "text"
      },
      "source": [
        "<a href=\"https://colab.research.google.com/github/lukaradonjic21/cap-comp215/blob/main/labs/lab4.ipynb\" target=\"_parent\"><img src=\"https://colab.research.google.com/assets/colab-badge.svg\" alt=\"Open In Colab\"/></a>"
      ]
    },
    {
      "cell_type": "markdown",
      "metadata": {
        "id": "EitbNLeYJeAd"
      },
      "source": [
        "# Erdos-Renyi Graphs\n",
        "\n",
        "Code examples from [Think Complexity, 2nd edition](https://thinkcomplex.com).\n",
        "\n",
        "Copyright 2016 Allen Downey, [MIT License](http://opensource.org/licenses/MIT)"
      ]
    },
    {
      "cell_type": "code",
      "execution_count": 1,
      "metadata": {
        "tags": [],
        "id": "bH-GsFPPJeAg"
      },
      "outputs": [],
      "source": [
        "import os\n",
        "\n",
        "if not os.path.exists('utils.py'):\n",
        "    !wget https://raw.githubusercontent.com/AllenDowney/ThinkComplexity2/master/notebooks/utils.py\n",
        "\n",
        "%matplotlib inline\n",
        "\n",
        "import matplotlib.pyplot as plt\n",
        "import networkx as nx\n",
        "import numpy as np\n",
        "import seaborn as sns\n",
        "\n",
        "from utils import decorate\n",
        "\n",
        "# I set the random seed so the notebook \n",
        "# produces the same results every time.\n",
        "np.random.seed(17)\n",
        "\n",
        "# TODO: remove this when NetworkX is fixed\n",
        "from warnings import simplefilter\n",
        "import matplotlib.cbook\n",
        "simplefilter(\"ignore\", matplotlib.cbook.mplDeprecation)"
      ]
    },
    {
      "cell_type": "code",
      "execution_count": 2,
      "metadata": {
        "id": "u_cLBbB3JeAh"
      },
      "outputs": [],
      "source": [
        "# node colors for drawing networks\n",
        "colors = sns.color_palette('pastel', 5)\n",
        "#sns.palplot(colors)\n",
        "sns.set_palette(colors)"
      ]
    },
    {
      "cell_type": "markdown",
      "metadata": {
        "id": "06OyR3qMJeAh"
      },
      "source": [
        "## Directed graph\n",
        "\n",
        "The first example is a directed graph that represents a social network with three nodes."
      ]
    },
    {
      "cell_type": "code",
      "execution_count": 3,
      "metadata": {
        "id": "QjCj2yGfJeAi",
        "outputId": "b5a425ea-a43b-4288-80b1-191f5b225c11",
        "colab": {
          "base_uri": "https://localhost:8080/"
        }
      },
      "outputs": [
        {
          "output_type": "execute_result",
          "data": {
            "text/plain": [
              "['John', 'Alice', 'Bob', 'Chuck']"
            ]
          },
          "metadata": {},
          "execution_count": 3
        }
      ],
      "source": [
        "G = nx.DiGraph()\n",
        "G.add_node('John')\n",
        "G.add_node('Alice')\n",
        "G.add_node('Bob')\n",
        "G.add_node('Chuck')\n",
        "list(G.nodes())"
      ]
    },
    {
      "cell_type": "markdown",
      "metadata": {
        "id": "m41kRViRJeAj"
      },
      "source": [
        "Here's how we add edges between nodes."
      ]
    },
    {
      "cell_type": "code",
      "execution_count": 4,
      "metadata": {
        "id": "OCckPxlzJeAj",
        "outputId": "c9e93396-66bb-46f2-afcd-b158e3bfe23c",
        "colab": {
          "base_uri": "https://localhost:8080/"
        }
      },
      "outputs": [
        {
          "output_type": "execute_result",
          "data": {
            "text/plain": [
              "[('John', 'Bob'),\n",
              " ('John', 'Alice'),\n",
              " ('Alice', 'Bob'),\n",
              " ('Alice', 'Chuck'),\n",
              " ('Bob', 'Alice'),\n",
              " ('Bob', 'Chuck')]"
            ]
          },
          "metadata": {},
          "execution_count": 4
        }
      ],
      "source": [
        "G.add_edge('Alice', 'Bob')\n",
        "G.add_edge('Alice', 'Chuck')\n",
        "G.add_edge('Bob', 'Alice')\n",
        "G.add_edge('Bob', 'Chuck')\n",
        "G.add_edge('John','Bob')\n",
        "G.add_edge('John','Alice')\n",
        "list(G.edges())"
      ]
    },
    {
      "cell_type": "markdown",
      "metadata": {
        "id": "9-CTkOa0JeAk"
      },
      "source": [
        "And here's how to draw the graph."
      ]
    },
    {
      "cell_type": "code",
      "execution_count": 5,
      "metadata": {
        "tags": [],
        "id": "qbkhunTeJeAk",
        "outputId": "f7596c9f-d47f-4eea-c937-8a233ac8d6a8",
        "colab": {
          "base_uri": "https://localhost:8080/",
          "height": 319
        }
      },
      "outputs": [
        {
          "output_type": "display_data",
          "data": {
            "image/png": "[encoded data removed]",
            "text/plain": [
              "<Figure size 432x288 with 1 Axes>"
            ]
          },
          "metadata": {}
        }
      ],
      "source": [
        "nx.draw_circular(G,\n",
        "                 node_color='C0',\n",
        "                 node_size=2000, \n",
        "                 with_labels=True)\n",
        "plt.axis('equal')\n",
        "plt.show('figs/chap03-1')"
      ]
    },
    {
      "cell_type": "markdown",
      "metadata": {
        "id": "IvzoALQkJeAl"
      },
      "source": [
        "**Exercise:**  Add another node and a few more edges and draw the graph again."
      ]
    },
    {
      "cell_type": "code",
      "execution_count": 6,
      "metadata": {
        "id": "npbHhTf-JeAl",
        "colab": {
          "base_uri": "https://localhost:8080/",
          "height": 319
        },
        "outputId": "0e9f838c-a2a0-4de3-bdf6-c66466a7dac4"
      },
      "outputs": [
        {
          "output_type": "display_data",
          "data": {
            "image/png": "[encoded data removed]",
            "text/plain": [
              "<Figure size 432x288 with 1 Axes>"
            ]
          },
          "metadata": {}
        }
      ],
      "source": [
        "G.add_node('Billy')\n",
        "G.add_edge('Billy', 'Chuck')\n",
        "G.add_edge('Billy', 'Bob')\n",
        "\n",
        "nx.draw_circular(G,\n",
        "                 node_color='C0',\n",
        "                 node_size=2000, \n",
        "                 with_labels=True)\n",
        "plt.axis('equal')\n",
        "plt.show('figs/chap03-1')"
      ]
    },
    {
      "cell_type": "markdown",
      "metadata": {
        "id": "xZLuHNizJeAl"
      },
      "source": [
        "## Undirected graph\n",
        "\n",
        "The second example is an undirected graph that represents cities and the driving times between them.\n",
        "\n",
        "`positions` is a dictionary that maps from each city to its coordinates."
      ]
    },
    {
      "cell_type": "code",
      "execution_count": 7,
      "metadata": {
        "id": "m92Rn5T9JeAm",
        "outputId": "8ed2071f-64a9-4df7-a98c-efa3400aad1e",
        "colab": {
          "base_uri": "https://localhost:8080/"
        }
      },
      "outputs": [
        {
          "output_type": "execute_result",
          "data": {
            "text/plain": [
              "(-74, 43)"
            ]
          },
          "metadata": {},
          "execution_count": 7
        }
      ],
      "source": [
        "positions = dict(Albany=(-74, 43),\n",
        "                 Boston=(-71, 42),\n",
        "                 NYC=(-74, 41),\n",
        "                 Philly=(-75, 40))\n",
        "\n",
        "positions['Albany']"
      ]
    },
    {
      "cell_type": "markdown",
      "metadata": {
        "id": "s-s-NO4cJeAm"
      },
      "source": [
        "We can use the keys in `pos` to add nodes to the graph."
      ]
    },
    {
      "cell_type": "code",
      "execution_count": 8,
      "metadata": {
        "id": "zpKGGNXeJeAm",
        "outputId": "b2aa2ab5-b985-4abe-c24d-e460be1f7cf6",
        "colab": {
          "base_uri": "https://localhost:8080/"
        }
      },
      "outputs": [
        {
          "output_type": "execute_result",
          "data": {
            "text/plain": [
              "NodeView(('Albany', 'Boston', 'NYC', 'Philly'))"
            ]
          },
          "metadata": {},
          "execution_count": 8
        }
      ],
      "source": [
        "G = nx.Graph()\n",
        "G.add_nodes_from(positions)\n",
        "G.nodes()"
      ]
    },
    {
      "cell_type": "markdown",
      "metadata": {
        "id": "AL0gzpj2JeAn"
      },
      "source": [
        "`drive_times` is a dictionary that maps from pairs of cities to the driving times between them."
      ]
    },
    {
      "cell_type": "code",
      "execution_count": 9,
      "metadata": {
        "id": "vDY8GWknJeAn"
      },
      "outputs": [],
      "source": [
        "drive_times = {('Albany', 'Boston'): 3,\n",
        "               ('Albany', 'NYC'): 4,\n",
        "               ('Boston', 'NYC'): 4,\n",
        "               ('NYC', 'Philly'): 2}"
      ]
    },
    {
      "cell_type": "markdown",
      "metadata": {
        "id": "fl8_Nxb5JeAn"
      },
      "source": [
        "We can use the keys from `drive_times` to add edges to the graph."
      ]
    },
    {
      "cell_type": "code",
      "execution_count": 10,
      "metadata": {
        "id": "Kzzo_Tp-JeAn",
        "outputId": "71d1e2f2-01df-4393-d62a-829fc8dd9aef",
        "colab": {
          "base_uri": "https://localhost:8080/"
        }
      },
      "outputs": [
        {
          "output_type": "execute_result",
          "data": {
            "text/plain": [
              "EdgeView([('Albany', 'Boston'), ('Albany', 'NYC'), ('Boston', 'NYC'), ('NYC', 'Philly')])"
            ]
          },
          "metadata": {},
          "execution_count": 10
        }
      ],
      "source": [
        "G.add_edges_from(drive_times)\n",
        "G.edges()"
      ]
    },
    {
      "cell_type": "markdown",
      "metadata": {
        "id": "p1EmhQrIJeAo"
      },
      "source": [
        "Now we can draw the graph using `positions` to indicate the positions of the nodes, and `drive_times` to label the edges."
      ]
    },
    {
      "cell_type": "code",
      "execution_count": 11,
      "metadata": {
        "tags": [],
        "id": "0C5KbQGEJeAo",
        "outputId": "ba10034a-dcc1-4b23-9991-ff4a6e50d7a3",
        "colab": {
          "base_uri": "https://localhost:8080/",
          "height": 319
        }
      },
      "outputs": [
        {
          "output_type": "display_data",
          "data": {
            "image/png": "[encoded data removed]",
            "text/plain": [
              "<Figure size 432x288 with 1 Axes>"
            ]
          },
          "metadata": {}
        }
      ],
      "source": [
        "nx.draw(G, positions, \n",
        "        node_color='C1', \n",
        "        node_shape='s', \n",
        "        node_size=2500, \n",
        "        with_labels=True)\n",
        "\n",
        "nx.draw_networkx_edge_labels(G, positions, \n",
        "                             edge_labels=drive_times)\n",
        "\n",
        "plt.axis('equal')\n",
        "plt.show('figs/chap03-2')"
      ]
    },
    {
      "cell_type": "markdown",
      "metadata": {
        "id": "MOHP8-MpJeAo"
      },
      "source": [
        "**Exercise:**  Add another city and at least one edge."
      ]
    },
    {
      "cell_type": "code",
      "execution_count": 52,
      "metadata": {
        "id": "Il2APARZJeAo",
        "colab": {
          "base_uri": "https://localhost:8080/",
          "height": 319
        },
        "outputId": "1421289b-fadf-4652-fd42-a413c39f0864"
      },
      "outputs": [
        {
          "output_type": "display_data",
          "data": {
            "image/png": "[encoded data removed]",
            "text/plain": [
              "<Figure size 432x288 with 1 Axes>"
            ]
          },
          "metadata": {}
        }
      ],
      "source": [
        "positions = dict(Albany=(-74, 43),\n",
        "                 Boston=(-71, 42),\n",
        "                 NYC=(-74, 41),\n",
        "                 Philly=(-75, 40),\n",
        "                 Scranton=(-75, 42))\n",
        "\n",
        "drive_times = {('Albany', 'Boston'): 3,\n",
        "               ('Albany', 'NYC'): 4,\n",
        "               ('Boston', 'NYC'): 4,\n",
        "               ('NYC', 'Philly'): 2,\n",
        "               ('NYC', 'Scranton'): 2}\n",
        "\n",
        "G = nx.Graph()\n",
        "G.add_nodes_from(positions)\n",
        "G.nodes()\n",
        "\n",
        "G.add_edges_from(drive_times)\n",
        "G.edges()\n",
        "\n",
        "nx.draw(G, positions, \n",
        "        node_color='C1', \n",
        "        node_shape='s', \n",
        "        node_size=2500, \n",
        "        with_labels=True)\n",
        "\n",
        "nx.draw_networkx_edge_labels(G, positions, \n",
        "                             edge_labels=drive_times)\n",
        "\n",
        "plt.axis('equal')\n",
        "plt.show('figs/chap03-2')"
      ]
    },
    {
      "cell_type": "markdown",
      "metadata": {
        "id": "akpR8S8cJeAp"
      },
      "source": [
        "## Complete graph\n",
        "\n",
        "To make a complete graph, we use a generator function that iterates through all pairs of nodes."
      ]
    },
    {
      "cell_type": "code",
      "execution_count": 53,
      "metadata": {
        "id": "iU4so1MvJeAp"
      },
      "outputs": [],
      "source": [
        "def all_pairs(nodes):\n",
        "    for i, u in enumerate(nodes):\n",
        "        for j, v in enumerate(nodes):\n",
        "            if i < j:\n",
        "                yield u, v"
      ]
    },
    {
      "cell_type": "markdown",
      "metadata": {
        "id": "aq30_susJeAp"
      },
      "source": [
        "`make_complete_graph` makes a `Graph` with the given number of nodes and edges between all pairs of nodes."
      ]
    },
    {
      "cell_type": "code",
      "execution_count": 54,
      "metadata": {
        "id": "udTRnCR-JeAp"
      },
      "outputs": [],
      "source": [
        "def make_complete_graph(n):\n",
        "    G = nx.Graph()\n",
        "    nodes = range(n)\n",
        "    G.add_nodes_from(nodes)\n",
        "    G.add_edges_from(all_pairs(nodes))\n",
        "    return G"
      ]
    },
    {
      "cell_type": "markdown",
      "metadata": {
        "id": "w4uWW1wGJeAp"
      },
      "source": [
        "Here's a complete graph with 10 nodes:"
      ]
    },
    {
      "cell_type": "code",
      "execution_count": 55,
      "metadata": {
        "id": "INsBSpIoJeAp",
        "outputId": "108a13ed-72d6-435e-bd16-1e7f88d0b0fd",
        "colab": {
          "base_uri": "https://localhost:8080/"
        }
      },
      "outputs": [
        {
          "output_type": "execute_result",
          "data": {
            "text/plain": [
              "10"
            ]
          },
          "metadata": {},
          "execution_count": 55
        }
      ],
      "source": [
        "complete = make_complete_graph(10)\n",
        "complete.number_of_nodes()"
      ]
    },
    {
      "cell_type": "markdown",
      "metadata": {
        "id": "-MtXUITYJeAq"
      },
      "source": [
        "And here's what it looks like."
      ]
    },
    {
      "cell_type": "code",
      "execution_count": 56,
      "metadata": {
        "tags": [],
        "id": "NT7mT2aNJeAq",
        "outputId": "d79a48e7-2566-439d-ee13-eda2a5d50e8d",
        "colab": {
          "base_uri": "https://localhost:8080/",
          "height": 319
        }
      },
      "outputs": [
        {
          "output_type": "display_data",
          "data": {
            "image/png": "[encoded data removed]",
            "text/plain": [
              "<Figure size 432x288 with 1 Axes>"
            ]
          },
          "metadata": {}
        }
      ],
      "source": [
        "nx.draw_circular(complete, \n",
        "                 node_color='C2', \n",
        "                 node_size=1000, \n",
        "                 with_labels=True)\n",
        "plt.show('figs/chap03-3')"
      ]
    },
    {
      "cell_type": "markdown",
      "metadata": {
        "id": "kxnixmZIJeAq"
      },
      "source": [
        "The `neighbors` method the neighbors for a given node."
      ]
    },
    {
      "cell_type": "code",
      "execution_count": 57,
      "metadata": {
        "id": "DZAODWqrJeAq",
        "outputId": "3f0abf7d-2b47-4c75-cec1-fefc82ad7457",
        "colab": {
          "base_uri": "https://localhost:8080/"
        }
      },
      "outputs": [
        {
          "output_type": "execute_result",
          "data": {
            "text/plain": [
              "[1, 2, 3, 4, 5, 6, 7, 8, 9]"
            ]
          },
          "metadata": {},
          "execution_count": 57
        }
      ],
      "source": [
        "list(complete.neighbors(0))"
      ]
    },
    {
      "cell_type": "markdown",
      "metadata": {
        "id": "zDB7j-GiJeAs"
      },
      "source": [
        "**Exercise:** Make and draw complete directed graph with 5 nodes."
      ]
    },
    {
      "cell_type": "code",
      "execution_count": 75,
      "metadata": {
        "id": "A1zkb_VIJeAs",
        "colab": {
          "base_uri": "https://localhost:8080/",
          "height": 319
        },
        "outputId": "b5627570-2ba0-400c-fa38-c900ea9e1c6c"
      },
      "outputs": [
        {
          "output_type": "display_data",
          "data": {
            "image/png": "[encoded data removed]",
            "text/plain": [
              "<Figure size 432x288 with 1 Axes>"
            ]
          },
          "metadata": {}
        }
      ],
      "source": [
        "compDirGraph = make_complete_graph(5)\n",
        "\n",
        "nx.draw_circular(compDirGraph,\n",
        "                 node_color='C5',\n",
        "                 node_size=1000, \n",
        "                 with_labels=True)\n",
        "plt.axis('equal')\n",
        "plt.show('figs/chap03-1')"
      ]
    },
    {
      "cell_type": "markdown",
      "metadata": {
        "id": "NV4BFmDsJeAs"
      },
      "source": [
        "## Random graphs\n",
        "\n",
        "Next we'll make a random graph where the probability of an edge between each pair of nodes is $p$.\n",
        "\n",
        "The helper function `flip` returns True with probability `p` and False with probability `1-p`"
      ]
    },
    {
      "cell_type": "code",
      "execution_count": 19,
      "metadata": {
        "id": "Bxd-rJpaJeAs"
      },
      "outputs": [],
      "source": [
        "def flip(p):\n",
        "    return np.random.random() < p"
      ]
    },
    {
      "cell_type": "markdown",
      "metadata": {
        "id": "ANvPeiMgJeAt"
      },
      "source": [
        "`random_pairs` is a generator function that enumerates all possible pairs of nodes and yields each one with probability `p` "
      ]
    },
    {
      "cell_type": "code",
      "execution_count": 20,
      "metadata": {
        "id": "w8PwnjsKJeAt"
      },
      "outputs": [],
      "source": [
        "def random_pairs(nodes, p):\n",
        "    for edge in all_pairs(nodes):\n",
        "        if flip(p):\n",
        "            yield edge"
      ]
    },
    {
      "cell_type": "markdown",
      "metadata": {
        "id": "JNZjtCZYJeAt"
      },
      "source": [
        "`make_random_graph` makes an ER graph where the probability of an edge between each pair of nodes is `p`."
      ]
    },
    {
      "cell_type": "code",
      "execution_count": 21,
      "metadata": {
        "id": "tSXA5Tk-JeAt"
      },
      "outputs": [],
      "source": [
        "def make_random_graph(n, p):\n",
        "    G = nx.Graph()\n",
        "    nodes = range(n)\n",
        "    G.add_nodes_from(nodes)\n",
        "    G.add_edges_from(random_pairs(nodes, p))\n",
        "    return G"
      ]
    },
    {
      "cell_type": "markdown",
      "metadata": {
        "id": "vqAsKEpxJeAt"
      },
      "source": [
        "Here's an example with `n=10` and `p=0.3`"
      ]
    },
    {
      "cell_type": "code",
      "execution_count": 22,
      "metadata": {
        "id": "WXepFpYlJeAt",
        "outputId": "95b13031-c5a0-4a4f-d0c8-af0b88cd7f49",
        "colab": {
          "base_uri": "https://localhost:8080/"
        }
      },
      "outputs": [
        {
          "output_type": "execute_result",
          "data": {
            "text/plain": [
              "12"
            ]
          },
          "metadata": {},
          "execution_count": 22
        }
      ],
      "source": [
        "np.random.seed(10)\n",
        "\n",
        "random_graph = make_random_graph(10, 0.3)\n",
        "len(random_graph.edges())"
      ]
    },
    {
      "cell_type": "markdown",
      "metadata": {
        "id": "80yC_f1qJeAt"
      },
      "source": [
        "And here's what it looks like:"
      ]
    },
    {
      "cell_type": "code",
      "execution_count": 23,
      "metadata": {
        "id": "8cEO8NyHJeAt",
        "outputId": "6c13b367-54c4-4701-fdb1-a73db32abe9b",
        "colab": {
          "base_uri": "https://localhost:8080/",
          "height": 319
        }
      },
      "outputs": [
        {
          "output_type": "display_data",
          "data": {
            "image/png": "[encoded data removed]",
            "text/plain": [
              "<Figure size 432x288 with 1 Axes>"
            ]
          },
          "metadata": {}
        }
      ],
      "source": [
        "nx.draw_circular(random_graph, \n",
        "                 node_color='C3', \n",
        "                 node_size=1000, \n",
        "                 with_labels=True)\n",
        "plt.show('figs/chap02-4')"
      ]
    },
    {
      "cell_type": "markdown",
      "metadata": {
        "id": "m5AXQhqdJeAu"
      },
      "source": [
        "## Connectivity\n",
        "\n",
        "To check whether a graph is connected, we'll start by finding all nodes that can be reached, starting with a given node:"
      ]
    },
    {
      "cell_type": "code",
      "execution_count": 24,
      "metadata": {
        "id": "ml3kYYUTJeAu"
      },
      "outputs": [],
      "source": [
        "def reachable_nodes(G, start):\n",
        "    seen = set()\n",
        "    stack = [start]\n",
        "    while stack:\n",
        "        node = stack.pop()\n",
        "        if node not in seen:\n",
        "            seen.add(node)\n",
        "            stack.extend(G.neighbors(node))\n",
        "    return seen"
      ]
    },
    {
      "cell_type": "markdown",
      "metadata": {
        "id": "6BgRnMtiJeAu"
      },
      "source": [
        "In the complete graph, starting from node 0, we can reach all nodes:"
      ]
    },
    {
      "cell_type": "code",
      "execution_count": 25,
      "metadata": {
        "id": "kyKccJjRJeAu",
        "outputId": "97e9709d-5266-4fa0-a6ae-e913e25e2b53",
        "colab": {
          "base_uri": "https://localhost:8080/"
        }
      },
      "outputs": [
        {
          "output_type": "execute_result",
          "data": {
            "text/plain": [
              "{0, 1, 2, 3, 4, 5, 6, 7, 8, 9}"
            ]
          },
          "metadata": {},
          "execution_count": 25
        }
      ],
      "source": [
        "reachable_nodes(complete, 0)"
      ]
    },
    {
      "cell_type": "markdown",
      "metadata": {
        "id": "0_jViUPvJeAu"
      },
      "source": [
        "In the random graph we generated, we can also reach all nodes (but that's not always true):"
      ]
    },
    {
      "cell_type": "code",
      "execution_count": 26,
      "metadata": {
        "id": "8xVkoa64JeAu",
        "outputId": "333677e1-2763-49c0-8118-35c06f80400f",
        "colab": {
          "base_uri": "https://localhost:8080/"
        }
      },
      "outputs": [
        {
          "output_type": "execute_result",
          "data": {
            "text/plain": [
              "{0, 1, 2, 3, 4, 5, 6, 7, 8, 9}"
            ]
          },
          "metadata": {},
          "execution_count": 26
        }
      ],
      "source": [
        "reachable_nodes(random_graph, 0)"
      ]
    },
    {
      "cell_type": "markdown",
      "metadata": {
        "id": "qJpduXbSJeAu"
      },
      "source": [
        "We can use `reachable_nodes` to check whether a graph is connected:"
      ]
    },
    {
      "cell_type": "code",
      "execution_count": 27,
      "metadata": {
        "id": "D8-W_WtDJeAu"
      },
      "outputs": [],
      "source": [
        "def is_connected(G):\n",
        "    start = next(iter(G))\n",
        "    reachable = reachable_nodes(G, start)\n",
        "    return len(reachable) == len(G)"
      ]
    },
    {
      "cell_type": "markdown",
      "metadata": {
        "id": "RbjbTyGEJeAv"
      },
      "source": [
        "Again, the complete graph is connected:"
      ]
    },
    {
      "cell_type": "code",
      "execution_count": 28,
      "metadata": {
        "id": "Yz0olWG1JeAv",
        "outputId": "4cfe9f29-d4fc-4654-f730-79bfc19feab3",
        "colab": {
          "base_uri": "https://localhost:8080/"
        }
      },
      "outputs": [
        {
          "output_type": "execute_result",
          "data": {
            "text/plain": [
              "True"
            ]
          },
          "metadata": {},
          "execution_count": 28
        }
      ],
      "source": [
        "is_connected(complete)"
      ]
    },
    {
      "cell_type": "markdown",
      "metadata": {
        "id": "GJVfitctJeAv"
      },
      "source": [
        "But if we generate a random graph with a low value of `p`, it's not:"
      ]
    },
    {
      "cell_type": "code",
      "execution_count": 29,
      "metadata": {
        "id": "tCPDaUkkJeAv",
        "outputId": "687b8121-4751-4e23-c610-2e4552f0e99e",
        "colab": {
          "base_uri": "https://localhost:8080/"
        }
      },
      "outputs": [
        {
          "output_type": "execute_result",
          "data": {
            "text/plain": [
              "6"
            ]
          },
          "metadata": {},
          "execution_count": 29
        }
      ],
      "source": [
        "random_graph = make_random_graph(10, 0.1)\n",
        "len(random_graph.edges())"
      ]
    },
    {
      "cell_type": "code",
      "execution_count": 30,
      "metadata": {
        "id": "MwiGyYUFJeAv",
        "outputId": "d903fde1-bbd0-4b82-915f-cf956ccc3551",
        "colab": {
          "base_uri": "https://localhost:8080/"
        }
      },
      "outputs": [
        {
          "output_type": "execute_result",
          "data": {
            "text/plain": [
              "False"
            ]
          },
          "metadata": {},
          "execution_count": 30
        }
      ],
      "source": [
        "is_connected(random_graph)"
      ]
    },
    {
      "cell_type": "markdown",
      "metadata": {
        "id": "FcWfDrjFJeAv"
      },
      "source": [
        "**Exercise:** What do you think it means for a directed graph to be connected?  Write a function that checks whether a directed graph is connected."
      ]
    },
    {
      "cell_type": "code",
      "execution_count": 31,
      "metadata": {
        "id": "nEGFS5XxJeAv"
      },
      "outputs": [],
      "source": [
        "# Solution goes here"
      ]
    },
    {
      "cell_type": "markdown",
      "metadata": {
        "id": "frzEgZOwJeAv"
      },
      "source": [
        "## Probability of connectivity\n",
        "\n",
        "Now let's estimare the probability that a randomly-generated ER graph is connected.\n",
        "\n",
        "This function takes `n` and `p`, generates `iters` graphs, and returns the fraction of them that are connected."
      ]
    },
    {
      "cell_type": "code",
      "execution_count": 32,
      "metadata": {
        "id": "qdKaUbFOJeAw"
      },
      "outputs": [],
      "source": [
        "# version with a for loop\n",
        "\n",
        "def prob_connected(n, p, iters=100):\n",
        "    count = 0\n",
        "    for i in range(iters):\n",
        "        random_graph = make_random_graph(n, p)\n",
        "        if is_connected(random_graph):\n",
        "            count += 1\n",
        "    return count/iters"
      ]
    },
    {
      "cell_type": "code",
      "execution_count": 33,
      "metadata": {
        "id": "fFthd7nFJeAw"
      },
      "outputs": [],
      "source": [
        "# version with a list comprehension\n",
        "\n",
        "def prob_connected(n, p, iters=100):\n",
        "    tf = [is_connected(make_random_graph(n, p))\n",
        "          for i in range(iters)]\n",
        "    return np.mean(tf)"
      ]
    },
    {
      "cell_type": "markdown",
      "metadata": {
        "id": "NcQ53PdCJeAw"
      },
      "source": [
        "With `n=10` and `p=0.23`, the probability of being connected is about 33%."
      ]
    },
    {
      "cell_type": "code",
      "execution_count": 34,
      "metadata": {
        "id": "xgmJssPsJeAw",
        "outputId": "e21a6e66-73ed-4960-a10d-9017df3cc3aa",
        "colab": {
          "base_uri": "https://localhost:8080/"
        }
      },
      "outputs": [
        {
          "output_type": "execute_result",
          "data": {
            "text/plain": [
              "0.3393"
            ]
          },
          "metadata": {},
          "execution_count": 34
        }
      ],
      "source": [
        "np.random.seed(17)\n",
        "\n",
        "n = 10\n",
        "prob_connected(n, 0.23, iters=10000)"
      ]
    },
    {
      "cell_type": "markdown",
      "metadata": {
        "id": "1yLngEqrJeAw"
      },
      "source": [
        "According to Erdos and Renyi, the critical value of `p` for `n=10` is about 0.23. "
      ]
    },
    {
      "cell_type": "code",
      "execution_count": 35,
      "metadata": {
        "id": "sxuEH1BIJeAw",
        "outputId": "7202b4de-c4fc-4ac9-e876-d763ed707811",
        "colab": {
          "base_uri": "https://localhost:8080/"
        }
      },
      "outputs": [
        {
          "output_type": "execute_result",
          "data": {
            "text/plain": [
              "0.23025850929940458"
            ]
          },
          "metadata": {},
          "execution_count": 35
        }
      ],
      "source": [
        "pstar = np.log(n) / n\n",
        "pstar"
      ]
    },
    {
      "cell_type": "markdown",
      "metadata": {
        "id": "Ix5k0njrJeAw"
      },
      "source": [
        "So let's plot the probability of connectivity for a range of values for `p`"
      ]
    },
    {
      "cell_type": "code",
      "execution_count": 36,
      "metadata": {
        "id": "Nn6He0YgJeAw",
        "outputId": "fa8cebe5-b788-44c2-bb50-a848e0e141f5",
        "colab": {
          "base_uri": "https://localhost:8080/"
        }
      },
      "outputs": [
        {
          "output_type": "execute_result",
          "data": {
            "text/plain": [
              "array([0.05011872, 0.0676083 , 0.09120108, 0.12302688, 0.16595869,\n",
              "       0.22387211, 0.30199517, 0.40738028, 0.54954087, 0.74131024,\n",
              "       1.        ])"
            ]
          },
          "metadata": {},
          "execution_count": 36
        }
      ],
      "source": [
        "ps = np.logspace(-1.3, 0, 11)\n",
        "ps"
      ]
    },
    {
      "cell_type": "markdown",
      "metadata": {
        "id": "T1UIHcMFJeAw"
      },
      "source": [
        "I'll estimate the probabilities with `iters=1000`"
      ]
    },
    {
      "cell_type": "code",
      "execution_count": 37,
      "metadata": {
        "tags": [],
        "id": "F5sNREzLJeAx",
        "outputId": "8a9d80a5-ff7f-4e5e-918b-e5dbf875831c",
        "colab": {
          "base_uri": "https://localhost:8080/"
        }
      },
      "outputs": [
        {
          "output_type": "stream",
          "name": "stdout",
          "text": [
            "0.05011872336272722 0.0\n",
            "0.06760829753919818 0.0\n",
            "0.09120108393559097 0.004\n",
            "0.12302687708123815 0.016\n",
            "0.16595869074375605 0.109\n",
            "0.22387211385683395 0.346\n",
            "0.3019951720402016 0.664\n",
            "0.40738027780411273 0.899\n",
            "0.5495408738576245 0.989\n",
            "0.7413102413009173 1.0\n",
            "1.0 1.0\n"
          ]
        }
      ],
      "source": [
        "ys = [prob_connected(n, p, 1000) for p in ps]\n",
        "\n",
        "for p, y in zip(ps, ys):\n",
        "    print(p, y)"
      ]
    },
    {
      "cell_type": "markdown",
      "metadata": {
        "id": "vBG0v2XvJeAx"
      },
      "source": [
        "And then plot them, adding a vertical line at the computed critical value"
      ]
    },
    {
      "cell_type": "code",
      "execution_count": 38,
      "metadata": {
        "id": "X7f_mUhXJeAx",
        "outputId": "14c67dda-7a5a-409c-fef8-09334a9c8b8a",
        "colab": {
          "base_uri": "https://localhost:8080/",
          "height": 0
        }
      },
      "outputs": [
        {
          "output_type": "display_data",
          "data": {
            "image/png": "[encoded data removed]",
            "text/plain": [
              "<Figure size 432x288 with 1 Axes>"
            ]
          },
          "metadata": {
            "needs_background": "light"
          }
        }
      ],
      "source": [
        "plt.axvline(pstar, color='gray')\n",
        "plt.plot(ps, ys, color='green')\n",
        "decorate(xlabel='Prob of edge (p)',\n",
        "                 ylabel='Prob connected',\n",
        "                 xscale='log')\n",
        "\n",
        "plt.show('figs/chap02-5')"
      ]
    },
    {
      "cell_type": "markdown",
      "metadata": {
        "id": "SWSMz5ooJeAx"
      },
      "source": [
        "We can run the same analysis for a few more values of `n`."
      ]
    },
    {
      "cell_type": "code",
      "execution_count": 39,
      "metadata": {
        "scrolled": false,
        "tags": [],
        "id": "WcVWpQaiJeAx",
        "outputId": "1991e51d-26e5-4cde-91cb-8c17ec6fd572",
        "colab": {
          "base_uri": "https://localhost:8080/",
          "height": 0
        }
      },
      "outputs": [
        {
          "output_type": "stream",
          "name": "stdout",
          "text": [
            "300\n",
            "100\n",
            "30\n"
          ]
        },
        {
          "output_type": "display_data",
          "data": {
            "image/png": "[encoded data removed]",
            "text/plain": [
              "<Figure size 432x288 with 1 Axes>"
            ]
          },
          "metadata": {
            "needs_background": "light"
          }
        }
      ],
      "source": [
        "ns = [300, 100, 30]\n",
        "ps = np.logspace(-2.5, 0, 11)\n",
        "\n",
        "sns.set_palette('Blues_r', 4)\n",
        "for n in ns:\n",
        "    print(n)\n",
        "    pstar = np.log(n) / n\n",
        "    plt.axvline(pstar, color='gray', alpha=0.3)\n",
        "\n",
        "    ys = [prob_connected(n, p) for p in ps]\n",
        "    plt.plot(ps, ys, label='n=%d' % n)\n",
        "\n",
        "decorate(xlabel='Prob of edge (p)',\n",
        "         ylabel='Prob connected',\n",
        "         xscale='log', \n",
        "         xlim=[ps[0], ps[-1]],\n",
        "         loc='upper left')\n",
        "\n",
        "plt.show('figs/chap02-6')"
      ]
    },
    {
      "cell_type": "markdown",
      "metadata": {
        "id": "eNYGgHU_JeAx"
      },
      "source": [
        "As `n` increases, the critical value gets smaller and the transition gets more abrupt."
      ]
    },
    {
      "cell_type": "markdown",
      "metadata": {
        "id": "I98-EYP5JeAx"
      },
      "source": [
        "## Exercises"
      ]
    },
    {
      "cell_type": "markdown",
      "metadata": {
        "id": "iuybDUTbJeAx"
      },
      "source": [
        "**Exercise:** In Chapter 2 we analyzed the performance of `reachable_nodes` and classified it in $O(n + m)$, where $n$ is the number of nodes and $m$ is the number of edges.  Continuing the\n",
        "analysis, what is the order of growth for `is_connected`?\n",
        "\n",
        "    def is_connected(G):\n",
        "        start = list(G)[0]\n",
        "        reachable = reachable_nodes(G, start)\n",
        "        return len(reachable) == len(G)"
      ]
    },
    {
      "cell_type": "code",
      "execution_count": 40,
      "metadata": {
        "id": "85U_2LeZJeAy"
      },
      "outputs": [],
      "source": [
        "# Solution goes here"
      ]
    },
    {
      "cell_type": "markdown",
      "metadata": {
        "id": "UsHLGh6eJeAy"
      },
      "source": [
        "**Exercise:** In my implementation of `reachable_nodes`, you might be bothered by the apparent inefficiency of adding *all* neighbors to the stack without checking whether they are already in `seen`.  Write a version of this function that checks the neighbors before adding them to the stack.  Does this \"optimization\" change the order of growth?  Does it make the function faster?"
      ]
    },
    {
      "cell_type": "code",
      "execution_count": 41,
      "metadata": {
        "id": "lf_vIyVaJeAy"
      },
      "outputs": [],
      "source": [
        "def reachable_nodes_precheck(G, start):\n",
        "    # FILL THIS IN\n",
        "    return []"
      ]
    },
    {
      "cell_type": "code",
      "execution_count": 42,
      "metadata": {
        "id": "0P5xk0miJeAy"
      },
      "outputs": [],
      "source": [
        "# Solution goes here"
      ]
    },
    {
      "cell_type": "code",
      "execution_count": null,
      "metadata": {
        "tags": [],
        "id": "nw_Y2oIcJeAy"
      },
      "outputs": [],
      "source": [
        "%timeit len(reachable_nodes(complete, 0))"
      ]
    },
    {
      "cell_type": "code",
      "execution_count": 43,
      "metadata": {
        "tags": [],
        "id": "r2K4RQT5JeAy",
        "outputId": "5a423c6b-29ee-41ee-a9a6-37328a4d4511",
        "colab": {
          "base_uri": "https://localhost:8080/"
        }
      },
      "outputs": [
        {
          "output_type": "stream",
          "name": "stdout",
          "text": [
            "The slowest run took 13.92 times longer than the fastest. This could mean that an intermediate result is being cached.\n",
            "10000000 loops, best of 5: 164 ns per loop\n"
          ]
        }
      ],
      "source": [
        "%timeit len(reachable_nodes_precheck(complete, 0))"
      ]
    },
    {
      "cell_type": "markdown",
      "metadata": {
        "collapsed": true,
        "id": "jlHp61CsJeAy"
      },
      "source": [
        "**Exercise:** There are actually two kinds of ER graphs.  The one we generated in the chapter, $G(n, p)$, is characterized by two parameters, the number of nodes and the probability of an edge between nodes.\n",
        "\n",
        "An alternative definition, denoted $G(n, m)$, is also characterized by two parameters: the number of nodes, $n$, and the number of edges, $m$.  Under this definition, the number of edges is fixed, but their location is random.\n",
        "\n",
        "Repeat the experiments we did in this chapter using this alternative definition.  Here are a few suggestions for how to proceed:\n",
        "\n",
        "1. Write a function called `m_pairs` that takes a list of nodes and the number of edges, $m$, and returns a random selection of $m$ edges.  A simple way to do that is to generate a list of all possible edges and use `random.sample`.\n",
        "\n",
        "2. Write a function called `make_m_graph` that takes $n$ and $m$ and returns a random graph with $n$ nodes and $m$ edges.\n",
        "\n",
        "3. Make a version of `prob_connected` that uses `make_m_graph` instead of `make_random_graph`.\n",
        "\n",
        "4. Compute the probability of connectivity for a range of values of $m$.\n",
        "\n",
        "How do the results of this experiment compare to the results using the first type of ER graph?"
      ]
    },
    {
      "cell_type": "code",
      "execution_count": 44,
      "metadata": {
        "id": "I2MARiR6JeAy"
      },
      "outputs": [],
      "source": [
        "# Solution goes here"
      ]
    },
    {
      "cell_type": "code",
      "execution_count": 45,
      "metadata": {
        "id": "5SaFiea8JeAz"
      },
      "outputs": [],
      "source": [
        "# Solution goes here"
      ]
    },
    {
      "cell_type": "code",
      "execution_count": 46,
      "metadata": {
        "id": "d3fLh9OOJeAz"
      },
      "outputs": [],
      "source": [
        "# Solution goes here"
      ]
    },
    {
      "cell_type": "raw",
      "metadata": {
        "id": "CftiSPzUJeAz"
      },
      "source": [
        ""
      ]
    },
    {
      "cell_type": "code",
      "execution_count": 46,
      "metadata": {
        "id": "Nh8pVIKWJeAz"
      },
      "outputs": [],
      "source": [
        ""
      ]
    }
  ],
  "metadata": {
    "kernelspec": {
      "display_name": "Python 3.8.3 32-bit",
      "language": "python",
      "name": "python_defaultSpec_1594390793206"
    },
    "language_info": {
      "codemirror_mode": {
        "name": "ipython",
        "version": 3
      },
      "file_extension": ".py",
      "mimetype": "text/x-python",
      "name": "python",
      "nbconvert_exporter": "python",
      "pygments_lexer": "ipython3",
      "version": "3.7.7"
    },
    "colab": {
      "name": "chap04.ipynb",
      "provenance": [],
      "include_colab_link": true
    }
  },
  "nbformat": 4,
  "nbformat_minor": 0
}