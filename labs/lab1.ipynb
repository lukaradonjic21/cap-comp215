{
  "cells": [
    {
      "cell_type": "markdown",
      "metadata": {
        "id": "view-in-github",
        "colab_type": "text"
      },
      "source": [
        "<a href=\"https://colab.research.google.com/github/lukaradonjic21/cap-comp215/blob/main/labs/lab1.ipynb\" target=\"_parent\"><img src=\"https://colab.research.google.com/assets/colab-badge.svg\" alt=\"Open In Colab\"/></a>"
      ]
    },
    {
      "cell_type": "markdown",
      "metadata": {
        "collapsed": true,
        "pycharm": {
          "name": "#%% md\n"
        },
        "id": "UO4namhuBH3l"
      },
      "source": [
        "COMP 215 - LAB 1\n",
        "----------------\n",
        "#### Name: \n",
        "#### Date: \n",
        "This lab exercise is mostly to introduce some of the power in Jupyter Notebooks.\n",
        "Note that a Notebook is composed of \"cells\" - some are \"text\", like this one, while others are \"code\"\n",
        "\n",
        "The code cell below simply imports all the modules we'll be using..."
      ]
    },
    {
      "cell_type": "code",
      "source": [
        "import datetime, json, requests\n",
        "import matplotlib.pyplot as plt\n",
        "import  matplotlib.dates as mdates\n",
        "from pprint import pprint"
      ],
      "metadata": {
        "pycharm": {
          "name": "#%%\n"
        },
        "id": "DqSJNdSdBH3n"
      },
      "execution_count": 1,
      "outputs": []
    },
    {
      "cell_type": "markdown",
      "source": [
        "Now, let's fetch some Covid-19 daily case-count data from:  https://opencovid.ca/api/\n",
        "\n",
        "Query:\n",
        "  - `stat=cases`        # the type of data to fetch\n",
        "  - `loc=BC`            # the location to fetch data for\n",
        "  - `after=01-12-2021`  # since the 1st of december (note date format:  dd-mm-yyyy)"
      ],
      "metadata": {
        "collapsed": false,
        "id": "0rnf67FTBH3p"
      }
    },
    {
      "cell_type": "code",
      "execution_count": 2,
      "outputs": [
        {
          "output_type": "stream",
          "name": "stdout",
          "text": [
            "{\"cases\":[{\"cases\":386,\"cumulative_cases\":218812,\"date_report\":\"01-12-2021\",\"province\":\"BC\"},{\"cases\":368,\"cumulative_cases\":219180,\"date_report\":\"02-12-2021\",\"province\":\"BC\"},{\"cases\":404,\"cumulative_cases\":219584,\"date_report\":\"03-12-2021\",\"province\":\"BC\"},{\"cases\":0,\"cumulative_cases\":219584,\"date_report\":\"04-12-2021\",\"province\":\"BC\"},{\"cases\":0,\"cumulative_cases\":219584,\"date_report\":\"05-12-2021\",\"province\":\"BC\"},{\"cases\":946,\"cumulative_cases\":220530,\"date_report\":\"06-12-2021\",\"province\":\"BC\"},{\"cases\":326,\"cumulative_cases\":220856,\"date_report\":\"07-12-2021\",\"province\":\"BC\"},{\"cases\":379,\"cumulative_cases\":221235,\"date_report\":\"08-12-2021\",\"province\":\"BC\"},{\"cases\":341,\"cumulative_cases\":221576,\"date_report\":\"09-12-2021\",\"province\":\"BC\"},{\"cases\":437,\"cumulative_cases\":222013,\"date_report\":\"10-12-2021\",\"province\":\"BC\"},{\"cases\":0,\"cumulative_cases\":222013,\"date_report\":\"11-12-2021\",\"province\":\"BC\"},{\"cases\":0,\"cumulative_cases\":222013,\"date_report\":\"12-12-2021\",\"province\":\"BC\"},{\"cases\":1129,\"cumulative_cases\":223142,\"date_report\":\"13-12-2021\",\"province\":\"BC\"},{\"cases\":519,\"cumulative_cases\":223661,\"date_report\":\"14-12-2021\",\"province\":\"BC\"},{\"cases\":584,\"cumulative_cases\":224245,\"date_report\":\"15-12-2021\",\"province\":\"BC\"},{\"cases\":753,\"cumulative_cases\":224998,\"date_report\":\"16-12-2021\",\"province\":\"BC\"},{\"cases\":787,\"cumulative_cases\":225785,\"date_report\":\"17-12-2021\",\"province\":\"BC\"},{\"cases\":0,\"cumulative_cases\":225785,\"date_report\":\"18-12-2021\",\"province\":\"BC\"},{\"cases\":0,\"cumulative_cases\":225785,\"date_report\":\"19-12-2021\",\"province\":\"BC\"},{\"cases\":2550,\"cumulative_cases\":228335,\"date_report\":\"20-12-2021\",\"province\":\"BC\"},{\"cases\":1308,\"cumulative_cases\":229643,\"date_report\":\"21-12-2021\",\"province\":\"BC\"},{\"cases\":1528,\"cumulative_cases\":231171,\"date_report\":\"22-12-2021\",\"province\":\"BC\"},{\"cases\":2046,\"cumulative_cases\":233217,\"date_report\":\"23-12-2021\",\"province\":\"BC\"},{\"cases\":2441,\"cumulative_cases\":235658,\"date_report\":\"24-12-2021\",\"province\":\"BC\"},{\"cases\":2545,\"cumulative_cases\":238203,\"date_report\":\"25-12-2021\",\"province\":\"BC\"},{\"cases\":2021,\"cumulative_cases\":240224,\"date_report\":\"26-12-2021\",\"province\":\"BC\"},{\"cases\":1708,\"cumulative_cases\":241932,\"date_report\":\"27-12-2021\",\"province\":\"BC\"},{\"cases\":1795,\"cumulative_cases\":243727,\"date_report\":\"28-12-2021\",\"province\":\"BC\"},{\"cases\":2944,\"cumulative_cases\":246671,\"date_report\":\"29-12-2021\",\"province\":\"BC\"},{\"cases\":4383,\"cumulative_cases\":251054,\"date_report\":\"30-12-2021\",\"province\":\"BC\"},{\"cases\":3795,\"cumulative_cases\":254849,\"date_report\":\"31-12-2021\",\"province\":\"BC\"},{\"cases\":0,\"cumulative_cases\":254849,\"date_report\":\"01-01-2022\",\"province\":\"BC\"},{\"cases\":0,\"cumulative_cases\":254849,\"date_report\":\"02-01-2022\",\"province\":\"BC\"},{\"cases\":9332,\"cumulative_cases\":264181,\"date_report\":\"03-01-2022\",\"province\":\"BC\"},{\"cases\":2529,\"cumulative_cases\":266710,\"date_report\":\"04-01-2022\",\"province\":\"BC\"},{\"cases\":3798,\"cumulative_cases\":270508,\"date_report\":\"05-01-2022\",\"province\":\"BC\"},{\"cases\":3223,\"cumulative_cases\":273731,\"date_report\":\"06-01-2022\",\"province\":\"BC\"},{\"cases\":3144,\"cumulative_cases\":276875,\"date_report\":\"07-01-2022\",\"province\":\"BC\"},{\"cases\":0,\"cumulative_cases\":276875,\"date_report\":\"08-01-2022\",\"province\":\"BC\"},{\"cases\":0,\"cumulative_cases\":276875,\"date_report\":\"09-01-2022\",\"province\":\"BC\"},{\"cases\":6966,\"cumulative_cases\":283841,\"date_report\":\"10-01-2022\",\"province\":\"BC\"},{\"cases\":2239,\"cumulative_cases\":286080,\"date_report\":\"11-01-2022\",\"province\":\"BC\"},{\"cases\":2612,\"cumulative_cases\":288692,\"date_report\":\"12-01-2022\",\"province\":\"BC\"}]}\n",
            "\n"
          ]
        }
      ],
      "source": [
        "query = 'https://api.opencovid.ca/timeseries?stat=cases&loc=BC&after=01-12-2021'\n",
        "\n",
        "#headers and data are optional for lower level requests\n",
        "response = requests.request(\"GET\", query, headers={}, data={})\n",
        "print(response.text)"
      ],
      "metadata": {
        "pycharm": {
          "name": "#%%\n"
        },
        "id": "Al2T68b2BH3p",
        "outputId": "68fa5a8d-3714-4832-a8b7-39c95a52bfac",
        "colab": {
          "base_uri": "https://localhost:8080/"
        }
      }
    },
    {
      "cell_type": "markdown",
      "source": [
        "Notice that the response is just a string of text (most data is exchanged on the web as plain text!)\n",
        "\n",
        "The `json.loads` function \"parses\" such text and loads the data into a dictionary..."
      ],
      "metadata": {
        "collapsed": false,
        "pycharm": {
          "name": "#%% md\n"
        },
        "id": "np4HQTmABH3q"
      }
    },
    {
      "cell_type": "code",
      "execution_count": 3,
      "outputs": [
        {
          "output_type": "stream",
          "name": "stdout",
          "text": [
            "{'cases': [{'cases': 386,\n",
            "            'cumulative_cases': 218812,\n",
            "            'date_report': '01-12-2021',\n",
            "            'province': 'BC'},\n",
            "           {'cases': 368,\n",
            "            'cumulative_cases': 219180,\n",
            "            'date_report': '02-12-2021',\n",
            "            'province': 'BC'},\n",
            "           {'cases': 404,\n",
            "            'cumulative_cases': 219584,\n",
            "            'date_report': '03-12-2021',\n",
            "            'province': 'BC'},\n",
            "           {'cases': 0,\n",
            "            'cumulative_cases': 219584,\n",
            "            'date_report': '04-12-2021',\n",
            "            'province': 'BC'},\n",
            "           {'cases': 0,\n",
            "            'cumulative_cases': 219584,\n",
            "            'date_report': '05-12-2021',\n",
            "            'province': 'BC'},\n",
            "           {'cases': 946,\n",
            "            'cumulative_cases': 220530,\n",
            "            'date_report': '06-12-2021',\n",
            "            'province': 'BC'},\n",
            "           {'cases': 326,\n",
            "            'cumulative_cases': 220856,\n",
            "            'date_report': '07-12-2021',\n",
            "            'province': 'BC'},\n",
            "           {'cases': 379,\n",
            "            'cumulative_cases': 221235,\n",
            "            'date_report': '08-12-2021',\n",
            "            'province': 'BC'},\n",
            "           {'cases': 341,\n",
            "            'cumulative_cases': 221576,\n",
            "            'date_report': '09-12-2021',\n",
            "            'province': 'BC'},\n",
            "           {'cases': 437,\n",
            "            'cumulative_cases': 222013,\n",
            "            'date_report': '10-12-2021',\n",
            "            'province': 'BC'},\n",
            "           {'cases': 0,\n",
            "            'cumulative_cases': 222013,\n",
            "            'date_report': '11-12-2021',\n",
            "            'province': 'BC'},\n",
            "           {'cases': 0,\n",
            "            'cumulative_cases': 222013,\n",
            "            'date_report': '12-12-2021',\n",
            "            'province': 'BC'},\n",
            "           {'cases': 1129,\n",
            "            'cumulative_cases': 223142,\n",
            "            'date_report': '13-12-2021',\n",
            "            'province': 'BC'},\n",
            "           {'cases': 519,\n",
            "            'cumulative_cases': 223661,\n",
            "            'date_report': '14-12-2021',\n",
            "            'province': 'BC'},\n",
            "           {'cases': 584,\n",
            "            'cumulative_cases': 224245,\n",
            "            'date_report': '15-12-2021',\n",
            "            'province': 'BC'},\n",
            "           {'cases': 753,\n",
            "            'cumulative_cases': 224998,\n",
            "            'date_report': '16-12-2021',\n",
            "            'province': 'BC'},\n",
            "           {'cases': 787,\n",
            "            'cumulative_cases': 225785,\n",
            "            'date_report': '17-12-2021',\n",
            "            'province': 'BC'},\n",
            "           {'cases': 0,\n",
            "            'cumulative_cases': 225785,\n",
            "            'date_report': '18-12-2021',\n",
            "            'province': 'BC'},\n",
            "           {'cases': 0,\n",
            "            'cumulative_cases': 225785,\n",
            "            'date_report': '19-12-2021',\n",
            "            'province': 'BC'},\n",
            "           {'cases': 2550,\n",
            "            'cumulative_cases': 228335,\n",
            "            'date_report': '20-12-2021',\n",
            "            'province': 'BC'},\n",
            "           {'cases': 1308,\n",
            "            'cumulative_cases': 229643,\n",
            "            'date_report': '21-12-2021',\n",
            "            'province': 'BC'},\n",
            "           {'cases': 1528,\n",
            "            'cumulative_cases': 231171,\n",
            "            'date_report': '22-12-2021',\n",
            "            'province': 'BC'},\n",
            "           {'cases': 2046,\n",
            "            'cumulative_cases': 233217,\n",
            "            'date_report': '23-12-2021',\n",
            "            'province': 'BC'},\n",
            "           {'cases': 2441,\n",
            "            'cumulative_cases': 235658,\n",
            "            'date_report': '24-12-2021',\n",
            "            'province': 'BC'},\n",
            "           {'cases': 2545,\n",
            "            'cumulative_cases': 238203,\n",
            "            'date_report': '25-12-2021',\n",
            "            'province': 'BC'},\n",
            "           {'cases': 2021,\n",
            "            'cumulative_cases': 240224,\n",
            "            'date_report': '26-12-2021',\n",
            "            'province': 'BC'},\n",
            "           {'cases': 1708,\n",
            "            'cumulative_cases': 241932,\n",
            "            'date_report': '27-12-2021',\n",
            "            'province': 'BC'},\n",
            "           {'cases': 1795,\n",
            "            'cumulative_cases': 243727,\n",
            "            'date_report': '28-12-2021',\n",
            "            'province': 'BC'},\n",
            "           {'cases': 2944,\n",
            "            'cumulative_cases': 246671,\n",
            "            'date_report': '29-12-2021',\n",
            "            'province': 'BC'},\n",
            "           {'cases': 4383,\n",
            "            'cumulative_cases': 251054,\n",
            "            'date_report': '30-12-2021',\n",
            "            'province': 'BC'},\n",
            "           {'cases': 3795,\n",
            "            'cumulative_cases': 254849,\n",
            "            'date_report': '31-12-2021',\n",
            "            'province': 'BC'},\n",
            "           {'cases': 0,\n",
            "            'cumulative_cases': 254849,\n",
            "            'date_report': '01-01-2022',\n",
            "            'province': 'BC'},\n",
            "           {'cases': 0,\n",
            "            'cumulative_cases': 254849,\n",
            "            'date_report': '02-01-2022',\n",
            "            'province': 'BC'},\n",
            "           {'cases': 9332,\n",
            "            'cumulative_cases': 264181,\n",
            "            'date_report': '03-01-2022',\n",
            "            'province': 'BC'},\n",
            "           {'cases': 2529,\n",
            "            'cumulative_cases': 266710,\n",
            "            'date_report': '04-01-2022',\n",
            "            'province': 'BC'},\n",
            "           {'cases': 3798,\n",
            "            'cumulative_cases': 270508,\n",
            "            'date_report': '05-01-2022',\n",
            "            'province': 'BC'},\n",
            "           {'cases': 3223,\n",
            "            'cumulative_cases': 273731,\n",
            "            'date_report': '06-01-2022',\n",
            "            'province': 'BC'},\n",
            "           {'cases': 3144,\n",
            "            'cumulative_cases': 276875,\n",
            "            'date_report': '07-01-2022',\n",
            "            'province': 'BC'},\n",
            "           {'cases': 0,\n",
            "            'cumulative_cases': 276875,\n",
            "            'date_report': '08-01-2022',\n",
            "            'province': 'BC'},\n",
            "           {'cases': 0,\n",
            "            'cumulative_cases': 276875,\n",
            "            'date_report': '09-01-2022',\n",
            "            'province': 'BC'},\n",
            "           {'cases': 6966,\n",
            "            'cumulative_cases': 283841,\n",
            "            'date_report': '10-01-2022',\n",
            "            'province': 'BC'},\n",
            "           {'cases': 2239,\n",
            "            'cumulative_cases': 286080,\n",
            "            'date_report': '11-01-2022',\n",
            "            'province': 'BC'},\n",
            "           {'cases': 2612,\n",
            "            'cumulative_cases': 288692,\n",
            "            'date_report': '12-01-2022',\n",
            "            'province': 'BC'}]}\n"
          ]
        }
      ],
      "source": [
        "result = json.loads(response.text)\n",
        "#print(result['cases'][0]['cumulative_cases'])\n",
        "pprint(result) # remove this comment and re-run this cell to see the resulting dictionary\n",
        "#pprint = pretty print (print with some formatting)"
      ],
      "metadata": {
        "pycharm": {
          "name": "#%%\n"
        },
        "id": "M5wV1C_0BH3q",
        "colab": {
          "base_uri": "https://localhost:8080/"
        },
        "outputId": "ec094326-f152-4015-f292-8d2f296cb08b"
      }
    },
    {
      "cell_type": "markdown",
      "source": [
        "Next we use \"list comprehension\" to extract the list of dates and associated cases into \"parallel lists\"\n",
        "\n",
        "Notice how we convert the date strings, using strptime, into a real date objects so they are easier to work with (format: dd-mm-yyyy)"
      ],
      "metadata": {
        "collapsed": false,
        "pycharm": {
          "name": "#%% md\n"
        },
        "id": "dAXX9kuZBH3r"
      }
    },
    {
      "cell_type": "code",
      "execution_count": 4,
      "outputs": [
        {
          "output_type": "stream",
          "name": "stdout",
          "text": [
            "[datetime.date(2021, 12, 1), datetime.date(2021, 12, 2), datetime.date(2021, 12, 3), datetime.date(2021, 12, 4), datetime.date(2021, 12, 5), datetime.date(2021, 12, 6), datetime.date(2021, 12, 7), datetime.date(2021, 12, 8), datetime.date(2021, 12, 9), datetime.date(2021, 12, 10), datetime.date(2021, 12, 11), datetime.date(2021, 12, 12), datetime.date(2021, 12, 13), datetime.date(2021, 12, 14), datetime.date(2021, 12, 15), datetime.date(2021, 12, 16), datetime.date(2021, 12, 17), datetime.date(2021, 12, 18), datetime.date(2021, 12, 19), datetime.date(2021, 12, 20), datetime.date(2021, 12, 21), datetime.date(2021, 12, 22), datetime.date(2021, 12, 23), datetime.date(2021, 12, 24), datetime.date(2021, 12, 25), datetime.date(2021, 12, 26), datetime.date(2021, 12, 27), datetime.date(2021, 12, 28), datetime.date(2021, 12, 29), datetime.date(2021, 12, 30), datetime.date(2021, 12, 31), datetime.date(2022, 1, 1), datetime.date(2022, 1, 2), datetime.date(2022, 1, 3), datetime.date(2022, 1, 4), datetime.date(2022, 1, 5), datetime.date(2022, 1, 6), datetime.date(2022, 1, 7), datetime.date(2022, 1, 8), datetime.date(2022, 1, 9), datetime.date(2022, 1, 10), datetime.date(2022, 1, 11), datetime.date(2022, 1, 12)]\n",
            "[386, 368, 404, 0, 0, 946, 326, 379, 341, 437, 0, 0, 1129, 519, 584, 753, 787, 0, 0, 2550, 1308, 1528, 2046, 2441, 2545, 2021, 1708, 1795, 2944, 4383, 3795, 0, 0, 9332, 2529, 3798, 3223, 3144, 0, 0, 6966, 2239, 2612]\n"
          ]
        }
      ],
      "source": [
        "#these are list comprehensions\n",
        "date_strings = [daily['date_report'] for daily in result['cases']]\n",
        "dates = [datetime.datetime.strptime(date, '%d-%m-%Y').date() for date in date_strings]\n",
        "cases = [daily['cases'] for daily in result['cases']]\n",
        "#print(date_strings)\n",
        "print(dates)\n",
        "print(cases)"
      ],
      "metadata": {
        "pycharm": {
          "name": "#%%\n"
        },
        "id": "JOFe4vNCBH3s",
        "outputId": "6e359d62-5017-4ce1-a05e-fac7295e85de",
        "colab": {
          "base_uri": "https://localhost:8080/"
        }
      }
    },
    {
      "cell_type": "markdown",
      "source": [
        "## Exercise 1\n",
        "\n",
        "In the code cell below, re-write each of the 3 \"list comprehensions\" above as a loop so you understand how they work.\n",
        "\n",
        "Notice that a \"list comprehension\" is a compact way to write a \"list accumlator\" algorithm (and more efficient too!)"
      ],
      "metadata": {
        "collapsed": false,
        "pycharm": {
          "name": "#%% md\n"
        },
        "id": "koVKiju9BH3s"
      }
    },
    {
      "cell_type": "code",
      "execution_count": 6,
      "outputs": [
        {
          "output_type": "stream",
          "name": "stdout",
          "text": [
            "['01-12-2021', '02-12-2021', '03-12-2021', '04-12-2021', '05-12-2021', '06-12-2021', '07-12-2021', '08-12-2021', '09-12-2021', '10-12-2021', '11-12-2021', '12-12-2021', '13-12-2021', '14-12-2021', '15-12-2021', '16-12-2021', '17-12-2021', '18-12-2021', '19-12-2021', '20-12-2021', '21-12-2021', '22-12-2021', '23-12-2021', '24-12-2021', '25-12-2021', '26-12-2021', '27-12-2021', '28-12-2021', '29-12-2021', '30-12-2021', '31-12-2021', '01-01-2022', '02-01-2022', '03-01-2022', '04-01-2022', '05-01-2022', '06-01-2022', '07-01-2022', '08-01-2022', '09-01-2022', '10-01-2022', '11-01-2022', '12-01-2022']\n",
            "[386, 368, 404, 0, 0, 946, 326, 379, 341, 437, 0, 0, 1129, 519, 584, 753, 787, 0, 0, 2550, 1308, 1528, 2046, 2441, 2545, 2021, 1708, 1795, 2944, 4383, 3795, 0, 0, 9332, 2529, 3798, 3223, 3144, 0, 0, 6966, 2239, 2612]\n"
          ]
        }
      ],
      "source": [
        "# Your code here\n",
        "date_strings = []                            #step 1: start with an empty list\n",
        "for daily in result['cases']:               #step 2; loop over all the daily reports in the results\n",
        "  date_strings.append(daily['date_report'])  #step 3: append the report data from the current daily report to the list\n",
        "print(date_strings)\n",
        "\n",
        "cases = []\n",
        "for daily in result['cases']:\n",
        "  cases.append(daily['cases'])\n",
        "print(cases)\n",
        "\n",
        "dates = []\n",
        "#for daily in result['cases']:\n",
        "  #dates.append(daily[])"
      ],
      "metadata": {
        "pycharm": {
          "name": "#%%\n"
        },
        "id": "aa5xLcWEBH3t",
        "colab": {
          "base_uri": "https://localhost:8080/"
        },
        "outputId": "84db484d-0685-4b4b-816c-a1d80e8f71be"
      }
    },
    {
      "cell_type": "markdown",
      "source": [
        "Finally, we'll plot the (dates,cases) data as a nice x-y line graph.\n",
        "\n",
        "The code to format the x-axis labels is taken from https://matplotlib.org/stable/gallery/ticks/date_concise_formatter.html\n",
        "\n"
      ],
      "metadata": {
        "collapsed": false,
        "id": "2ow28BuTBH3u"
      }
    },
    {
      "cell_type": "code",
      "execution_count": null,
      "outputs": [],
      "source": [
        "def format_date_axis(ax):\n",
        "  \"\"\" format the dates shown on the x-axis of given axes, ax  \"\"\"\n",
        "  locator = mdates.AutoDateLocator(minticks=10, maxticks=20)\n",
        "  formatter = mdates.ConciseDateFormatter(locator)\n",
        "  ax.xaxis.set_major_locator(locator)\n",
        "  ax.xaxis.set_major_formatter(formatter)\n",
        "\n",
        "fig, ax = plt.subplots()\n",
        "format_date_axis(ax)\n",
        "ax.plot(dates, cases, label='Daily Cases')  # Plot some data on the axes.\n",
        "ax.set_xlabel('Date')  # Add an x-label to the axes.\n",
        "ax.set_ylabel('confirmed casess')  # Add a y-label to the axes.\n",
        "ax.set_title(\"Covid-19 case counts for BC\")  # Add a title to the axes.\n",
        "ax.legend();"
      ],
      "metadata": {
        "pycharm": {
          "name": "#%%\n"
        },
        "id": "FgwPH8mTBH3v"
      }
    },
    {
      "cell_type": "markdown",
      "source": [
        "## Exercise 2\n",
        "\n",
        "Repeat the analysis above, but this time only for Vancouver Coastal Health Region.\n",
        "\n",
        " * Try to modify as little code as you can (should be just a few characters), and re-run the analysis\n",
        " * You can get the location code for each health region here:  https://opencovid.ca/api/#health-region-codes\n",
        " * Can you generalize the code in the 2nd code cell to make it easier to repeat the analysis for different locations?  What about for different dates?\n",
        "\n",
        "## Exercise 3\n",
        "\n",
        "Notice that BC does not report case counts on weekends so the data plot looks erratic.\n",
        "\n",
        " * One way to fix that is to plot a \"7-day rolling average\" instead.\n",
        "Each day, we take the average of the previous 7 days cases.\n",
        " * Add new code cell below, compute the 7-day rolling average for each day from the cases list.\n",
        " * Create a plot to display the rolling average data and compare your plost with the one produced above.\n",
        "\n",
        " Hints: you are free to do this however you like, but a quite elegant solution uses list comprehension, range, and slices\n"
      ],
      "metadata": {
        "collapsed": false,
        "id": "qqeTORnvBH3v"
      }
    }
  ],
  "metadata": {
    "kernelspec": {
      "display_name": "Python 3",
      "language": "python",
      "name": "python3"
    },
    "language_info": {
      "codemirror_mode": {
        "name": "ipython",
        "version": 2
      },
      "file_extension": ".py",
      "mimetype": "text/x-python",
      "name": "python",
      "nbconvert_exporter": "python",
      "pygments_lexer": "ipython2",
      "version": "2.7.6"
    },
    "colab": {
      "name": "lab1.ipynb",
      "provenance": [],
      "include_colab_link": true
    }
  },
  "nbformat": 4,
  "nbformat_minor": 0
}